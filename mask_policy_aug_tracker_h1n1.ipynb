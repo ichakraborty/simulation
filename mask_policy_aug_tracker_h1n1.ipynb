{
  "nbformat": 4,
  "nbformat_minor": 0,
  "metadata": {
    "colab": {
      "name": "mask_policy_aug_tracker_h1n1.ipynb",
      "provenance": [],
      "include_colab_link": true
    },
    "kernelspec": {
      "display_name": "Python 3",
      "name": "python3"
    },
    "language_info": {
      "name": "python"
    }
  },
  "cells": [
    {
      "cell_type": "markdown",
      "metadata": {
        "id": "view-in-github",
        "colab_type": "text"
      },
      "source": [
        "<a href=\"https://colab.research.google.com/github/ichakraborty/simulation/blob/main/mask_policy_aug_tracker_h1n1.ipynb\" target=\"_parent\"><img src=\"https://colab.research.google.com/assets/colab-badge.svg\" alt=\"Open In Colab\"/></a>"
      ]
    },
    {
      "cell_type": "code",
      "metadata": {
        "id": "RmfBKZkYkAh1"
      },
      "source": [
        "from sklearn import *\n",
        "%matplotlib inline\n",
        "import matplotlib.pyplot as plt\n",
        "import numpy as np\n",
        "import math \n",
        "from sklearn.decomposition import PCA\n",
        "from scipy.sparse import csr_matrix as csr\n",
        "from sklearn.decomposition import NMF\n",
        "import itertools\n",
        "import re\n",
        "import random\n",
        "import pandas as pd"
      ],
      "execution_count": null,
      "outputs": []
    },
    {
      "cell_type": "markdown",
      "metadata": {
        "id": "kC_Br2OXr2JE"
      },
      "source": [
        "#Importing Data\n",
        "\n",
        "We get the datasets that will be used and load them as csvs"
      ]
    },
    {
      "cell_type": "code",
      "metadata": {
        "colab": {
          "base_uri": "https://localhost:8080/"
        },
        "id": "Nfd2f99ZkKTF",
        "outputId": "9342cc75-fe84-4a1e-aeac-f563f0b0d04e"
      },
      "source": [
        "!wget https://raw.githubusercontent.com/OxCGRT/USA-covid-policy/master/data/OxCGRT_US_latest.csv\n",
        "!wget https://raw.githubusercontent.com/ichakraborty/simulation/main/h1n1.csv\n",
        "!wget https://raw.githubusercontent.com/skangasl/cs156/main/WHO_NREVSS_Clinical_Labs.csv\n",
        "!wget https://raw.githubusercontent.com/skangasl/cs156/main/WHO_NREVSS_Public_Health_Labs.csv\n",
        "!wget https://raw.githubusercontent.com/skangasl/cs156/main/weeks.csv"
      ],
      "execution_count": null,
      "outputs": [
        {
          "output_type": "stream",
          "text": [
            "--2021-05-28 11:14:46--  https://raw.githubusercontent.com/OxCGRT/USA-covid-policy/master/data/OxCGRT_US_latest.csv\n",
            "Resolving raw.githubusercontent.com (raw.githubusercontent.com)... 185.199.111.133, 185.199.108.133, 185.199.110.133, ...\n",
            "Connecting to raw.githubusercontent.com (raw.githubusercontent.com)|185.199.111.133|:443... connected.\n",
            "HTTP request sent, awaiting response... 200 OK\n",
            "Length: 16505935 (16M) [text/plain]\n",
            "Saving to: ‘OxCGRT_US_latest.csv.6’\n",
            "\n",
            "OxCGRT_US_latest.cs 100%[===================>]  15.74M  39.2MB/s    in 0.4s    \n",
            "\n",
            "2021-05-28 11:14:47 (39.2 MB/s) - ‘OxCGRT_US_latest.csv.6’ saved [16505935/16505935]\n",
            "\n",
            "--2021-05-28 11:14:47--  https://raw.githubusercontent.com/ichakraborty/simulation/main/h1n1.csv\n",
            "Resolving raw.githubusercontent.com (raw.githubusercontent.com)... 185.199.110.133, 185.199.109.133, 185.199.111.133, ...\n",
            "Connecting to raw.githubusercontent.com (raw.githubusercontent.com)|185.199.110.133|:443... connected.\n",
            "HTTP request sent, awaiting response... 200 OK\n",
            "Length: 955 [text/plain]\n",
            "Saving to: ‘h1n1.csv.6’\n",
            "\n",
            "h1n1.csv.6          100%[===================>]     955  --.-KB/s    in 0s      \n",
            "\n",
            "2021-05-28 11:14:47 (54.6 MB/s) - ‘h1n1.csv.6’ saved [955/955]\n",
            "\n",
            "--2021-05-28 11:14:47--  https://raw.githubusercontent.com/skangasl/cs156/main/WHO_NREVSS_Clinical_Labs.csv\n",
            "Resolving raw.githubusercontent.com (raw.githubusercontent.com)... 185.199.108.133, 185.199.109.133, 185.199.110.133, ...\n",
            "Connecting to raw.githubusercontent.com (raw.githubusercontent.com)|185.199.108.133|:443... connected.\n",
            "HTTP request sent, awaiting response... 200 OK\n",
            "Length: 3079 (3.0K) [text/plain]\n",
            "Saving to: ‘WHO_NREVSS_Clinical_Labs.csv.6’\n",
            "\n",
            "WHO_NREVSS_Clinical 100%[===================>]   3.01K  --.-KB/s    in 0s      \n",
            "\n",
            "2021-05-28 11:14:47 (54.9 MB/s) - ‘WHO_NREVSS_Clinical_Labs.csv.6’ saved [3079/3079]\n",
            "\n",
            "--2021-05-28 11:14:47--  https://raw.githubusercontent.com/skangasl/cs156/main/WHO_NREVSS_Public_Health_Labs.csv\n",
            "Resolving raw.githubusercontent.com (raw.githubusercontent.com)... 185.199.108.133, 185.199.110.133, 185.199.109.133, ...\n",
            "Connecting to raw.githubusercontent.com (raw.githubusercontent.com)|185.199.108.133|:443... connected.\n",
            "HTTP request sent, awaiting response... 200 OK\n",
            "Length: 2284 (2.2K) [text/plain]\n",
            "Saving to: ‘WHO_NREVSS_Public_Health_Labs.csv.6’\n",
            "\n",
            "WHO_NREVSS_Public_H 100%[===================>]   2.23K  --.-KB/s    in 0s      \n",
            "\n",
            "2021-05-28 11:14:47 (38.9 MB/s) - ‘WHO_NREVSS_Public_Health_Labs.csv.6’ saved [2284/2284]\n",
            "\n",
            "--2021-05-28 11:14:47--  https://raw.githubusercontent.com/skangasl/cs156/main/weeks.csv\n",
            "Resolving raw.githubusercontent.com (raw.githubusercontent.com)... 185.199.108.133, 185.199.109.133, 185.199.110.133, ...\n",
            "Connecting to raw.githubusercontent.com (raw.githubusercontent.com)|185.199.108.133|:443... connected.\n",
            "HTTP request sent, awaiting response... 200 OK\n",
            "Length: 685 [text/plain]\n",
            "Saving to: ‘weeks.csv.5’\n",
            "\n",
            "weeks.csv.5         100%[===================>]     685  --.-KB/s    in 0s      \n",
            "\n",
            "2021-05-28 11:14:47 (27.0 MB/s) - ‘weeks.csv.5’ saved [685/685]\n",
            "\n"
          ],
          "name": "stdout"
        }
      ]
    },
    {
      "cell_type": "code",
      "metadata": {
        "id": "oJ3Ky2n3kRN3"
      },
      "source": [
        "us_pol = pd.read_csv('OxCGRT_US_latest.csv')\n",
        "h1n1 = pd.read_csv('h1n1.csv')\n",
        "clinical = pd.read_csv('WHO_NREVSS_Clinical_Labs.csv')\n",
        "public_health = pd.read_csv('WHO_NREVSS_Public_Health_Labs.csv')"
      ],
      "execution_count": null,
      "outputs": []
    },
    {
      "cell_type": "markdown",
      "metadata": {
        "id": "i53T32Z5q_ZQ"
      },
      "source": [
        "# Displaying Data\n",
        "\n",
        "We display some of our data and do some initial preprocessing to get the total number of flu cases of all types."
      ]
    },
    {
      "cell_type": "code",
      "metadata": {
        "colab": {
          "base_uri": "https://localhost:8080/",
          "height": 204
        },
        "id": "hULQlsqwPkXW",
        "outputId": "c2e1a058-c690-4de3-a095-1cdfe35bc42a"
      },
      "source": [
        "clinical.head()"
      ],
      "execution_count": null,
      "outputs": [
        {
          "output_type": "execute_result",
          "data": {
            "text/html": [
              "<div>\n",
              "<style scoped>\n",
              "    .dataframe tbody tr th:only-of-type {\n",
              "        vertical-align: middle;\n",
              "    }\n",
              "\n",
              "    .dataframe tbody tr th {\n",
              "        vertical-align: top;\n",
              "    }\n",
              "\n",
              "    .dataframe thead th {\n",
              "        text-align: right;\n",
              "    }\n",
              "</style>\n",
              "<table border=\"1\" class=\"dataframe\">\n",
              "  <thead>\n",
              "    <tr style=\"text-align: right;\">\n",
              "      <th></th>\n",
              "      <th>REGION TYPE</th>\n",
              "      <th>REGION</th>\n",
              "      <th>YEAR</th>\n",
              "      <th>WEEK</th>\n",
              "      <th>TOTAL SPECIMENS</th>\n",
              "      <th>TOTAL A</th>\n",
              "      <th>TOTAL B</th>\n",
              "      <th>PERCENT POSITIVE</th>\n",
              "      <th>PERCENT A</th>\n",
              "      <th>PERCENT B</th>\n",
              "    </tr>\n",
              "  </thead>\n",
              "  <tbody>\n",
              "    <tr>\n",
              "      <th>0</th>\n",
              "      <td>National</td>\n",
              "      <td>X</td>\n",
              "      <td>2019</td>\n",
              "      <td>40</td>\n",
              "      <td>19851</td>\n",
              "      <td>136</td>\n",
              "      <td>124</td>\n",
              "      <td>1.30976</td>\n",
              "      <td>0.685104</td>\n",
              "      <td>0.624654</td>\n",
              "    </tr>\n",
              "    <tr>\n",
              "      <th>1</th>\n",
              "      <td>National</td>\n",
              "      <td>X</td>\n",
              "      <td>2019</td>\n",
              "      <td>41</td>\n",
              "      <td>22113</td>\n",
              "      <td>146</td>\n",
              "      <td>181</td>\n",
              "      <td>1.47877</td>\n",
              "      <td>0.660245</td>\n",
              "      <td>0.818523</td>\n",
              "    </tr>\n",
              "    <tr>\n",
              "      <th>2</th>\n",
              "      <td>National</td>\n",
              "      <td>X</td>\n",
              "      <td>2019</td>\n",
              "      <td>42</td>\n",
              "      <td>23131</td>\n",
              "      <td>172</td>\n",
              "      <td>187</td>\n",
              "      <td>1.55203</td>\n",
              "      <td>0.743591</td>\n",
              "      <td>0.808439</td>\n",
              "    </tr>\n",
              "    <tr>\n",
              "      <th>3</th>\n",
              "      <td>National</td>\n",
              "      <td>X</td>\n",
              "      <td>2019</td>\n",
              "      <td>43</td>\n",
              "      <td>24630</td>\n",
              "      <td>201</td>\n",
              "      <td>354</td>\n",
              "      <td>2.25335</td>\n",
              "      <td>0.816078</td>\n",
              "      <td>1.437270</td>\n",
              "    </tr>\n",
              "    <tr>\n",
              "      <th>4</th>\n",
              "      <td>National</td>\n",
              "      <td>X</td>\n",
              "      <td>2019</td>\n",
              "      <td>44</td>\n",
              "      <td>25417</td>\n",
              "      <td>221</td>\n",
              "      <td>556</td>\n",
              "      <td>3.05701</td>\n",
              "      <td>0.869497</td>\n",
              "      <td>2.187510</td>\n",
              "    </tr>\n",
              "  </tbody>\n",
              "</table>\n",
              "</div>"
            ],
            "text/plain": [
              "  REGION TYPE REGION  YEAR  ...  PERCENT POSITIVE  PERCENT A  PERCENT B\n",
              "0    National      X  2019  ...           1.30976   0.685104   0.624654\n",
              "1    National      X  2019  ...           1.47877   0.660245   0.818523\n",
              "2    National      X  2019  ...           1.55203   0.743591   0.808439\n",
              "3    National      X  2019  ...           2.25335   0.816078   1.437270\n",
              "4    National      X  2019  ...           3.05701   0.869497   2.187510\n",
              "\n",
              "[5 rows x 10 columns]"
            ]
          },
          "metadata": {
            "tags": []
          },
          "execution_count": 4
        }
      ]
    },
    {
      "cell_type": "code",
      "metadata": {
        "colab": {
          "base_uri": "https://localhost:8080/",
          "height": 204
        },
        "id": "b8w2Ip4UQGPk",
        "outputId": "4f68af69-31cf-4f6f-be84-ef7930dbd3ee"
      },
      "source": [
        "public_health.head()"
      ],
      "execution_count": null,
      "outputs": [
        {
          "output_type": "execute_result",
          "data": {
            "text/html": [
              "<div>\n",
              "<style scoped>\n",
              "    .dataframe tbody tr th:only-of-type {\n",
              "        vertical-align: middle;\n",
              "    }\n",
              "\n",
              "    .dataframe tbody tr th {\n",
              "        vertical-align: top;\n",
              "    }\n",
              "\n",
              "    .dataframe thead th {\n",
              "        text-align: right;\n",
              "    }\n",
              "</style>\n",
              "<table border=\"1\" class=\"dataframe\">\n",
              "  <thead>\n",
              "    <tr style=\"text-align: right;\">\n",
              "      <th></th>\n",
              "      <th>REGION TYPE</th>\n",
              "      <th>REGION</th>\n",
              "      <th>YEAR</th>\n",
              "      <th>WEEK</th>\n",
              "      <th>TOTAL SPECIMENS</th>\n",
              "      <th>A (2009 H1N1)</th>\n",
              "      <th>A (H3)</th>\n",
              "      <th>A (Subtyping not Performed)</th>\n",
              "      <th>B</th>\n",
              "      <th>BVic</th>\n",
              "      <th>BYam</th>\n",
              "      <th>H3N2v</th>\n",
              "    </tr>\n",
              "  </thead>\n",
              "  <tbody>\n",
              "    <tr>\n",
              "      <th>0</th>\n",
              "      <td>National</td>\n",
              "      <td>X</td>\n",
              "      <td>2019</td>\n",
              "      <td>40</td>\n",
              "      <td>987</td>\n",
              "      <td>25</td>\n",
              "      <td>57</td>\n",
              "      <td>21</td>\n",
              "      <td>7</td>\n",
              "      <td>56</td>\n",
              "      <td>1</td>\n",
              "      <td>0</td>\n",
              "    </tr>\n",
              "    <tr>\n",
              "      <th>1</th>\n",
              "      <td>National</td>\n",
              "      <td>X</td>\n",
              "      <td>2019</td>\n",
              "      <td>41</td>\n",
              "      <td>1101</td>\n",
              "      <td>33</td>\n",
              "      <td>64</td>\n",
              "      <td>22</td>\n",
              "      <td>7</td>\n",
              "      <td>70</td>\n",
              "      <td>2</td>\n",
              "      <td>0</td>\n",
              "    </tr>\n",
              "    <tr>\n",
              "      <th>2</th>\n",
              "      <td>National</td>\n",
              "      <td>X</td>\n",
              "      <td>2019</td>\n",
              "      <td>42</td>\n",
              "      <td>1256</td>\n",
              "      <td>36</td>\n",
              "      <td>82</td>\n",
              "      <td>24</td>\n",
              "      <td>13</td>\n",
              "      <td>77</td>\n",
              "      <td>3</td>\n",
              "      <td>0</td>\n",
              "    </tr>\n",
              "    <tr>\n",
              "      <th>3</th>\n",
              "      <td>National</td>\n",
              "      <td>X</td>\n",
              "      <td>2019</td>\n",
              "      <td>43</td>\n",
              "      <td>1494</td>\n",
              "      <td>53</td>\n",
              "      <td>78</td>\n",
              "      <td>48</td>\n",
              "      <td>20</td>\n",
              "      <td>96</td>\n",
              "      <td>5</td>\n",
              "      <td>0</td>\n",
              "    </tr>\n",
              "    <tr>\n",
              "      <th>4</th>\n",
              "      <td>National</td>\n",
              "      <td>X</td>\n",
              "      <td>2019</td>\n",
              "      <td>44</td>\n",
              "      <td>1597</td>\n",
              "      <td>52</td>\n",
              "      <td>61</td>\n",
              "      <td>83</td>\n",
              "      <td>39</td>\n",
              "      <td>120</td>\n",
              "      <td>5</td>\n",
              "      <td>0</td>\n",
              "    </tr>\n",
              "  </tbody>\n",
              "</table>\n",
              "</div>"
            ],
            "text/plain": [
              "  REGION TYPE REGION  YEAR  WEEK  ...   B  BVic  BYam  H3N2v\n",
              "0    National      X  2019    40  ...   7    56     1      0\n",
              "1    National      X  2019    41  ...   7    70     2      0\n",
              "2    National      X  2019    42  ...  13    77     3      0\n",
              "3    National      X  2019    43  ...  20    96     5      0\n",
              "4    National      X  2019    44  ...  39   120     5      0\n",
              "\n",
              "[5 rows x 12 columns]"
            ]
          },
          "metadata": {
            "tags": []
          },
          "execution_count": 5
        }
      ]
    },
    {
      "cell_type": "code",
      "metadata": {
        "colab": {
          "base_uri": "https://localhost:8080/",
          "height": 204
        },
        "id": "KR6iJwPTPSJ_",
        "outputId": "935a9297-4d51-4295-9d46-2146d94e0d72"
      },
      "source": [
        "us_tot = pd.DataFrame()\n",
        "us_tot['week'] = clinical['WEEK']\n",
        "us_tot['flu_cases'] = clinical['TOTAL A'] + clinical['TOTAL B'] + public_health['A (2009 H1N1)'] + public_health['A (H3)'] + public_health['B'] + public_health['BVic'] + public_health['BYam'] + public_health['H3N2v']\n",
        "us_tot['year'] = clinical['YEAR']\n",
        "us_tot.head()"
      ],
      "execution_count": null,
      "outputs": [
        {
          "output_type": "execute_result",
          "data": {
            "text/html": [
              "<div>\n",
              "<style scoped>\n",
              "    .dataframe tbody tr th:only-of-type {\n",
              "        vertical-align: middle;\n",
              "    }\n",
              "\n",
              "    .dataframe tbody tr th {\n",
              "        vertical-align: top;\n",
              "    }\n",
              "\n",
              "    .dataframe thead th {\n",
              "        text-align: right;\n",
              "    }\n",
              "</style>\n",
              "<table border=\"1\" class=\"dataframe\">\n",
              "  <thead>\n",
              "    <tr style=\"text-align: right;\">\n",
              "      <th></th>\n",
              "      <th>week</th>\n",
              "      <th>flu_cases</th>\n",
              "      <th>year</th>\n",
              "    </tr>\n",
              "  </thead>\n",
              "  <tbody>\n",
              "    <tr>\n",
              "      <th>0</th>\n",
              "      <td>40</td>\n",
              "      <td>406</td>\n",
              "      <td>2019</td>\n",
              "    </tr>\n",
              "    <tr>\n",
              "      <th>1</th>\n",
              "      <td>41</td>\n",
              "      <td>503</td>\n",
              "      <td>2019</td>\n",
              "    </tr>\n",
              "    <tr>\n",
              "      <th>2</th>\n",
              "      <td>42</td>\n",
              "      <td>570</td>\n",
              "      <td>2019</td>\n",
              "    </tr>\n",
              "    <tr>\n",
              "      <th>3</th>\n",
              "      <td>43</td>\n",
              "      <td>807</td>\n",
              "      <td>2019</td>\n",
              "    </tr>\n",
              "    <tr>\n",
              "      <th>4</th>\n",
              "      <td>44</td>\n",
              "      <td>1054</td>\n",
              "      <td>2019</td>\n",
              "    </tr>\n",
              "  </tbody>\n",
              "</table>\n",
              "</div>"
            ],
            "text/plain": [
              "   week  flu_cases  year\n",
              "0    40        406  2019\n",
              "1    41        503  2019\n",
              "2    42        570  2019\n",
              "3    43        807  2019\n",
              "4    44       1054  2019"
            ]
          },
          "metadata": {
            "tags": []
          },
          "execution_count": 6
        }
      ]
    },
    {
      "cell_type": "code",
      "metadata": {
        "colab": {
          "base_uri": "https://localhost:8080/",
          "height": 204
        },
        "id": "fRgqXMpKKNIM",
        "outputId": "d57a41d6-4c63-434b-8e93-14cf2d67a656"
      },
      "source": [
        "h1n1.head()"
      ],
      "execution_count": null,
      "outputs": [
        {
          "output_type": "execute_result",
          "data": {
            "text/html": [
              "<div>\n",
              "<style scoped>\n",
              "    .dataframe tbody tr th:only-of-type {\n",
              "        vertical-align: middle;\n",
              "    }\n",
              "\n",
              "    .dataframe tbody tr th {\n",
              "        vertical-align: top;\n",
              "    }\n",
              "\n",
              "    .dataframe thead th {\n",
              "        text-align: right;\n",
              "    }\n",
              "</style>\n",
              "<table border=\"1\" class=\"dataframe\">\n",
              "  <thead>\n",
              "    <tr style=\"text-align: right;\">\n",
              "      <th></th>\n",
              "      <th>week</th>\n",
              "      <th>h1n1 positive tests</th>\n",
              "      <th>total positive tests</th>\n",
              "      <th>year</th>\n",
              "    </tr>\n",
              "  </thead>\n",
              "  <tbody>\n",
              "    <tr>\n",
              "      <th>0</th>\n",
              "      <td>17</td>\n",
              "      <td>326</td>\n",
              "      <td>1892</td>\n",
              "      <td>2009</td>\n",
              "    </tr>\n",
              "    <tr>\n",
              "      <th>1</th>\n",
              "      <td>18</td>\n",
              "      <td>441</td>\n",
              "      <td>1454</td>\n",
              "      <td>2009</td>\n",
              "    </tr>\n",
              "    <tr>\n",
              "      <th>2</th>\n",
              "      <td>19</td>\n",
              "      <td>742</td>\n",
              "      <td>1074</td>\n",
              "      <td>2009</td>\n",
              "    </tr>\n",
              "    <tr>\n",
              "      <th>3</th>\n",
              "      <td>20</td>\n",
              "      <td>1096</td>\n",
              "      <td>1450</td>\n",
              "      <td>2009</td>\n",
              "    </tr>\n",
              "    <tr>\n",
              "      <th>4</th>\n",
              "      <td>21</td>\n",
              "      <td>1558</td>\n",
              "      <td>2074</td>\n",
              "      <td>2009</td>\n",
              "    </tr>\n",
              "  </tbody>\n",
              "</table>\n",
              "</div>"
            ],
            "text/plain": [
              "   week  h1n1 positive tests  total positive tests  year\n",
              "0    17                  326                  1892  2009\n",
              "1    18                  441                  1454  2009\n",
              "2    19                  742                  1074  2009\n",
              "3    20                 1096                  1450  2009\n",
              "4    21                 1558                  2074  2009"
            ]
          },
          "metadata": {
            "tags": []
          },
          "execution_count": 7
        }
      ]
    },
    {
      "cell_type": "markdown",
      "metadata": {
        "id": "h5O-eLD8pW72"
      },
      "source": [
        "# Preprocessing\n",
        "We construct the training data by preprocessing dates and getting the average US masking policy during a given week."
      ]
    },
    {
      "cell_type": "code",
      "metadata": {
        "id": "ecd3YpZQpKgq"
      },
      "source": [
        "weeks = pd.read_csv('weeks.csv')\n",
        "weeks_np = weeks.to_numpy()\n",
        "masks = us_pol[['RegionName','H6_Facial Coverings', 'Date']]"
      ],
      "execution_count": null,
      "outputs": []
    },
    {
      "cell_type": "code",
      "metadata": {
        "colab": {
          "base_uri": "https://localhost:8080/"
        },
        "id": "UO796qCUsKQp",
        "outputId": "ca26e224-796d-4efe-df78-96d77b25301c"
      },
      "source": [
        "masks_clean = masks.dropna()\n",
        "def get_week(date):\n",
        "  if date >= 20210101:\n",
        "    return 0\n",
        "  elif date >= 20201005:\n",
        "    date -= 10000\n",
        "  for i in range(0, len(weeks_np)):\n",
        "    if weeks_np[i][1] >= date:\n",
        "      return weeks_np[i][0]\n",
        "\n",
        "masks_clean['week'] = masks_clean['Date'].apply(get_week)"
      ],
      "execution_count": null,
      "outputs": [
        {
          "output_type": "stream",
          "text": [
            "/usr/local/lib/python3.7/dist-packages/ipykernel_launcher.py:11: SettingWithCopyWarning: \n",
            "A value is trying to be set on a copy of a slice from a DataFrame.\n",
            "Try using .loc[row_indexer,col_indexer] = value instead\n",
            "\n",
            "See the caveats in the documentation: https://pandas.pydata.org/pandas-docs/stable/user_guide/indexing.html#returning-a-view-versus-a-copy\n",
            "  # This is added back by InteractiveShellApp.init_path()\n"
          ],
          "name": "stderr"
        }
      ]
    },
    {
      "cell_type": "code",
      "metadata": {
        "id": "z3A0JYdbSMzD"
      },
      "source": [
        "mask_pol = masks_clean[['week', 'H6_Facial Coverings']].groupby(['week'])['H6_Facial Coverings'].agg('mean')\n",
        "mask_pol[1.0] = 0.0"
      ],
      "execution_count": null,
      "outputs": []
    },
    {
      "cell_type": "code",
      "metadata": {
        "colab": {
          "base_uri": "https://localhost:8080/",
          "height": 204
        },
        "id": "XUS5TwHigJK0",
        "outputId": "690d2ece-73d2-413f-d964-9e95ee35f2de"
      },
      "source": [
        "in_df = us_tot\n",
        "mask_np = mask_pol.to_numpy()\n",
        "h1n1_np = h1n1.to_numpy()\n",
        "def get_mask(week_val):\n",
        "  return mask_np[week_val]\n",
        "def get_h1n1(week_val):\n",
        "  for i in range(len(h1n1_np)):\n",
        "    if h1n1_np[i][0] == week_val:\n",
        "      return h1n1_np[i][1]\n",
        "in_df['masking'] = in_df['week'].apply(get_mask)\n",
        "in_df['h1n1_cases'] = in_df['week'].apply(get_h1n1)\n",
        "df = in_df[['week', 'flu_cases', 'masking']]\n",
        "df.head()"
      ],
      "execution_count": null,
      "outputs": [
        {
          "output_type": "execute_result",
          "data": {
            "text/html": [
              "<div>\n",
              "<style scoped>\n",
              "    .dataframe tbody tr th:only-of-type {\n",
              "        vertical-align: middle;\n",
              "    }\n",
              "\n",
              "    .dataframe tbody tr th {\n",
              "        vertical-align: top;\n",
              "    }\n",
              "\n",
              "    .dataframe thead th {\n",
              "        text-align: right;\n",
              "    }\n",
              "</style>\n",
              "<table border=\"1\" class=\"dataframe\">\n",
              "  <thead>\n",
              "    <tr style=\"text-align: right;\">\n",
              "      <th></th>\n",
              "      <th>week</th>\n",
              "      <th>flu_cases</th>\n",
              "      <th>masking</th>\n",
              "    </tr>\n",
              "  </thead>\n",
              "  <tbody>\n",
              "    <tr>\n",
              "      <th>0</th>\n",
              "      <td>40</td>\n",
              "      <td>406</td>\n",
              "      <td>2.823529</td>\n",
              "    </tr>\n",
              "    <tr>\n",
              "      <th>1</th>\n",
              "      <td>41</td>\n",
              "      <td>503</td>\n",
              "      <td>2.829132</td>\n",
              "    </tr>\n",
              "    <tr>\n",
              "      <th>2</th>\n",
              "      <td>42</td>\n",
              "      <td>570</td>\n",
              "      <td>2.868347</td>\n",
              "    </tr>\n",
              "    <tr>\n",
              "      <th>3</th>\n",
              "      <td>43</td>\n",
              "      <td>807</td>\n",
              "      <td>2.915966</td>\n",
              "    </tr>\n",
              "    <tr>\n",
              "      <th>4</th>\n",
              "      <td>44</td>\n",
              "      <td>1054</td>\n",
              "      <td>2.921569</td>\n",
              "    </tr>\n",
              "  </tbody>\n",
              "</table>\n",
              "</div>"
            ],
            "text/plain": [
              "   week  flu_cases   masking\n",
              "0    40        406  2.823529\n",
              "1    41        503  2.829132\n",
              "2    42        570  2.868347\n",
              "3    43        807  2.915966\n",
              "4    44       1054  2.921569"
            ]
          },
          "metadata": {
            "tags": []
          },
          "execution_count": 11
        }
      ]
    },
    {
      "cell_type": "markdown",
      "metadata": {
        "id": "qduUNaW0qHrU"
      },
      "source": [
        "# Models\n",
        "\n",
        "We run xgboost, decision tree, and random forest classifiers on a 90-10 train test split\n"
      ]
    },
    {
      "cell_type": "code",
      "metadata": {
        "colab": {
          "base_uri": "https://localhost:8080/"
        },
        "id": "j7_x8-y7Apdg",
        "outputId": "a03dc30d-cfe9-410c-fdc9-4c09ae58cb91"
      },
      "source": [
        "from sklearn import *\n",
        "import xgboost\n",
        "from xgboost.sklearn import XGBClassifier\n",
        "from sklearn.model_selection import train_test_split\n",
        "from sklearn.metrics import r2_score\n",
        "from sklearn.metrics import roc_auc_score\n",
        "from sklearn import preprocessing\n",
        "\n",
        "X = (df[['week', 'masking']].to_numpy()).tolist()  \n",
        "week_idxs = (df['week'].to_numpy()).tolist()\n",
        "X.extend([[week, 0.0] for week in week_idxs])\n",
        "X = np.asarray(X)\n",
        "\n",
        "Y = (df['flu_cases'].to_numpy()).tolist()\n",
        "Y.extend((in_df['h1n1_cases'].to_numpy()).tolist())\n",
        "Y = np.asarray(Y)\n",
        "\n",
        "X_train, X_test, Y_train, Y_test = train_test_split(X, Y, test_size=0.1, random_state=42)\n",
        "\n",
        "xgb = XGBClassifier( max_depth=6, eta = 0.1)\n",
        "xgb.fit(X_train, Y_train)\n",
        "\n",
        "pred = xgb.predict(X_test)\n",
        "err = r2_score(Y_test,pred, multioutput='uniform_average')\n",
        "print(err)\n"
      ],
      "execution_count": null,
      "outputs": [
        {
          "output_type": "stream",
          "text": [
            "-0.2445980672375565\n"
          ],
          "name": "stdout"
        }
      ]
    },
    {
      "cell_type": "code",
      "metadata": {
        "colab": {
          "base_uri": "https://localhost:8080/"
        },
        "id": "xgwUPwMazJYp",
        "outputId": "1165e601-93d4-4f5b-9c66-a5f78a118076"
      },
      "source": [
        "from sklearn import tree\n",
        "\n",
        "\n",
        "dt = tree.DecisionTreeClassifier(criterion='gini', max_depth= 7)\n",
        "dt.fit(X_train, Y_train)\n",
        "\n",
        "pred_dt= dt.predict(X_test)\n",
        "err_dt = r2_score(Y_test,pred_dt, multioutput = 'uniform_average')\n",
        "print(err_dt)"
      ],
      "execution_count": null,
      "outputs": [
        {
          "output_type": "stream",
          "text": [
            "-0.7477721725485782\n"
          ],
          "name": "stdout"
        }
      ]
    },
    {
      "cell_type": "code",
      "metadata": {
        "colab": {
          "base_uri": "https://localhost:8080/"
        },
        "id": "5dkD547OzSSp",
        "outputId": "d98b7a27-9ee9-49c4-94e9-8a88bfedce8d"
      },
      "source": [
        "from sklearn.ensemble import RandomForestClassifier\n",
        "rf = RandomForestClassifier(criterion = 'gini', max_depth = 6, min_samples_leaf = 3 )\n",
        "\n",
        "rf.fit(X_train, Y_train)\n",
        "\n",
        "pred_rf= rf.predict(X_test)\n",
        "err_rf = r2_score(Y_test,pred_rf, multioutput = 'uniform_average')\n",
        "print(err_rf)"
      ],
      "execution_count": null,
      "outputs": [
        {
          "output_type": "stream",
          "text": [
            "-0.6567899526838743\n"
          ],
          "name": "stdout"
        }
      ]
    },
    {
      "cell_type": "markdown",
      "metadata": {
        "id": "nc4t978dqad2"
      },
      "source": [
        "# Predictions\n",
        "We predict a flu season with various policies using the trained models and show a baseline of h1n1 cases in the 2009-2010 flu season."
      ]
    },
    {
      "cell_type": "code",
      "metadata": {
        "id": "do0Os5qLHBz7",
        "colab": {
          "base_uri": "https://localhost:8080/",
          "height": 265
        },
        "outputId": "031c930c-1611-4202-e055-220b2ede8617"
      },
      "source": [
        "import matplotlib.pyplot as plt\n",
        "predictions =[]\n",
        "\n",
        "for level in range (0, 5):\n",
        "  x_exp = []\n",
        "  for i in range(0, 53):\n",
        "    x_exp.append([i, level])\n",
        "  predictions.append(np.asarray([rf.predict(x_exp)]))\n",
        "\n",
        "predictions\n",
        "\n",
        "weeks = list(range(0, 53, 1))\n",
        "plt.plot(weeks, predictions[0].T, color = \"blue\", label = \"No Policy\")\n",
        "plt.plot(weeks, predictions[1].T, color = \"green\", label = \"Reccomended\")\n",
        "plt.plot(weeks, predictions[2].T, color = \"red\",label = \"Sometimes required publically\" )\n",
        "plt.plot(weeks, predictions[3].T, color = \"lime\", label = \"Always required publically\")\n",
        "plt.plot(weeks, predictions[4].T, color = \"pink\", label = \"Always except home\")\n",
        "\n",
        "\n",
        "plt.legend(loc=\"upper right\")\n",
        "\n",
        "plt.show()"
      ],
      "execution_count": null,
      "outputs": [
        {
          "output_type": "display_data",
          "data": {
            "image/png": "[encoded data removed]",
            "text/plain": [
              "<Figure size 432x288 with 1 Axes>"
            ]
          },
          "metadata": {
            "tags": [],
            "needs_background": "light"
          }
        }
      ]
    },
    {
      "cell_type": "code",
      "metadata": {
        "colab": {
          "base_uri": "https://localhost:8080/",
          "height": 296
        },
        "id": "nhTrLF5HmI2j",
        "outputId": "1e086a4a-a294-4e1f-92af-c04088ef99bd"
      },
      "source": [
        "plot_df = pd.DataFrame(in_df['h1n1_cases'], index=in_df['week'])\n",
        "plot_df.plot()"
      ],
      "execution_count": null,
      "outputs": [
        {
          "output_type": "execute_result",
          "data": {
            "text/plain": [
              "<matplotlib.axes._subplots.AxesSubplot at 0x7f6dd07bb250>"
            ]
          },
          "metadata": {
            "tags": []
          },
          "execution_count": 16
        },
        {
          "output_type": "display_data",
          "data": {
            "image/png": "[encoded data removed]",
            "text/plain": [
              "<Figure size 432x288 with 1 Axes>"
            ]
          },
          "metadata": {
            "tags": [],
            "needs_background": "light"
          }
        }
      ]
    }
  ]
}