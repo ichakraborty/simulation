{
  "nbformat": 4,
  "nbformat_minor": 0,
  "metadata": {
    "colab": {
      "name": "SIMulation_elderly_policy_final",
      "provenance": [],
      "collapsed_sections": [],
      "include_colab_link": true
    },
    "kernelspec": {
      "display_name": "Python 3",
      "name": "python3"
    },
    "language_info": {
      "name": "python"
    }
  },
  "cells": [
    {
      "cell_type": "markdown",
      "metadata": {
        "id": "view-in-github",
        "colab_type": "text"
      },
      "source": [
        "<a href=\"https://colab.research.google.com/github/ichakraborty/simulation/blob/main/SIMulation_elderly_policy_final.ipynb\" target=\"_parent\"><img src=\"https://colab.research.google.com/assets/colab-badge.svg\" alt=\"Open In Colab\"/></a>"
      ]
    },
    {
      "cell_type": "markdown",
      "metadata": {
        "id": "8HUGleZqRxoJ"
      },
      "source": [
        "#Set-up and data importation"
      ]
    },
    {
      "cell_type": "code",
      "metadata": {
        "id": "RmfBKZkYkAh1"
      },
      "source": [
        "from sklearn import *\n",
        "%matplotlib inline\n",
        "import matplotlib.pyplot as plt\n",
        "from matplotlib import pyplot\n",
        "import numpy as np\n",
        "import math \n",
        "from sklearn.decomposition import PCA\n",
        "from scipy.sparse import csr_matrix as csr\n",
        "from sklearn.decomposition import NMF\n",
        "import itertools\n",
        "import re\n",
        "import random\n",
        "import pandas as pd"
      ],
      "execution_count": null,
      "outputs": []
    },
    {
      "cell_type": "markdown",
      "metadata": {
        "id": "vimOxKICnRHm"
      },
      "source": [
        "Getting Data sets:\n",
        "The commented ones gave us access to some European data, which the model was not ultiamtely trained on."
      ]
    },
    {
      "cell_type": "code",
      "metadata": {
        "colab": {
          "base_uri": "https://localhost:8080/"
        },
        "id": "Nfd2f99ZkKTF",
        "outputId": "92b4642d-eaf0-45d5-b433-8c0b79511a38"
      },
      "source": [
        "!wget https://raw.githubusercontent.com/OxCGRT/USA-covid-policy/master/data/OxCGRT_US_latest.csv\n",
        "!wget https://raw.githubusercontent.com/OxCGRT/covid-policy-tracker/master/data/OxCGRT_latest.csv\n",
        "!wget https://raw.githubusercontent.com/ichakraborty/simulation/main/StateDatabySeason60_5958.csv\n",
        "# !wget https://raw.githubusercontent.com/ichakraborty/simulation/main/ECDC_surveillance_data_Influenza-1.csv\n",
        "!wget https://raw.githubusercontent.com/ichakraborty/simulation/main/WHO_NREVSS_Clinical_Labs_states.csv\n",
        "!wget https://raw.githubusercontent.com/ichakraborty/simulation/main/nst-est2019-01.csv\n",
        "#!wget https://github.com/ichakraborty/simulation/blob/main/ox_all.csv.zip\n",
        "#!unzip ox_all.csv.zip\n"
      ],
      "execution_count": null,
      "outputs": [
        {
          "output_type": "stream",
          "text": [
            "--2021-05-28 00:06:11--  https://raw.githubusercontent.com/OxCGRT/USA-covid-policy/master/data/OxCGRT_US_latest.csv\n",
            "Resolving raw.githubusercontent.com (raw.githubusercontent.com)... 185.199.109.133, 185.199.110.133, 185.199.111.133, ...\n",
            "Connecting to raw.githubusercontent.com (raw.githubusercontent.com)|185.199.109.133|:443... connected.\n",
            "HTTP request sent, awaiting response... 200 OK\n",
            "Length: 16497534 (16M) [text/plain]\n",
            "Saving to: ‘OxCGRT_US_latest.csv.2’\n",
            "\n",
            "\rOxCGRT_US_latest.cs   0%[                    ]       0  --.-KB/s               \rOxCGRT_US_latest.cs 100%[===================>]  15.73M  --.-KB/s    in 0.1s    \n",
            "\n",
            "2021-05-28 00:06:11 (149 MB/s) - ‘OxCGRT_US_latest.csv.2’ saved [16497534/16497534]\n",
            "\n",
            "--2021-05-28 00:06:11--  https://raw.githubusercontent.com/OxCGRT/covid-policy-tracker/master/data/OxCGRT_latest.csv\n",
            "Resolving raw.githubusercontent.com (raw.githubusercontent.com)... 185.199.108.133, 185.199.109.133, 185.199.110.133, ...\n",
            "Connecting to raw.githubusercontent.com (raw.githubusercontent.com)|185.199.108.133|:443... connected.\n",
            "HTTP request sent, awaiting response... 200 OK\n",
            "Length: 31820137 (30M) [text/plain]\n",
            "Saving to: ‘OxCGRT_latest.csv.2’\n",
            "\n",
            "OxCGRT_latest.csv.2 100%[===================>]  30.35M   147MB/s    in 0.2s    \n",
            "\n",
            "2021-05-28 00:06:12 (147 MB/s) - ‘OxCGRT_latest.csv.2’ saved [31820137/31820137]\n",
            "\n",
            "--2021-05-28 00:06:12--  https://raw.githubusercontent.com/ichakraborty/simulation/main/StateDatabySeason60_5958.csv\n",
            "Resolving raw.githubusercontent.com (raw.githubusercontent.com)... 185.199.108.133, 185.199.109.133, 185.199.110.133, ...\n",
            "Connecting to raw.githubusercontent.com (raw.githubusercontent.com)|185.199.108.133|:443... connected.\n",
            "HTTP request sent, awaiting response... 200 OK\n",
            "Length: 1052528 (1.0M) [text/plain]\n",
            "Saving to: ‘StateDatabySeason60_5958.csv.2’\n",
            "\n",
            "StateDatabySeason60 100%[===================>]   1.00M  --.-KB/s    in 0.02s   \n",
            "\n",
            "2021-05-28 00:06:12 (48.6 MB/s) - ‘StateDatabySeason60_5958.csv.2’ saved [1052528/1052528]\n",
            "\n",
            "--2021-05-28 00:06:12--  https://raw.githubusercontent.com/ichakraborty/simulation/main/WHO_NREVSS_Clinical_Labs_states.csv\n",
            "Resolving raw.githubusercontent.com (raw.githubusercontent.com)... 185.199.108.133, 185.199.109.133, 185.199.110.133, ...\n",
            "Connecting to raw.githubusercontent.com (raw.githubusercontent.com)|185.199.108.133|:443... connected.\n",
            "HTTP request sent, awaiting response... 200 OK\n",
            "Length: 292993 (286K) [text/plain]\n",
            "Saving to: ‘WHO_NREVSS_Clinical_Labs_states.csv.2’\n",
            "\n",
            "WHO_NREVSS_Clinical 100%[===================>] 286.13K  --.-KB/s    in 0.006s  \n",
            "\n",
            "2021-05-28 00:06:12 (45.4 MB/s) - ‘WHO_NREVSS_Clinical_Labs_states.csv.2’ saved [292993/292993]\n",
            "\n",
            "--2021-05-28 00:06:12--  https://raw.githubusercontent.com/ichakraborty/simulation/main/nst-est2019-01.csv\n",
            "Resolving raw.githubusercontent.com (raw.githubusercontent.com)... 185.199.108.133, 185.199.109.133, 185.199.110.133, ...\n",
            "Connecting to raw.githubusercontent.com (raw.githubusercontent.com)|185.199.108.133|:443... connected.\n",
            "HTTP request sent, awaiting response... 200 OK\n",
            "Length: 8748 (8.5K) [text/plain]\n",
            "Saving to: ‘nst-est2019-01.csv.2’\n",
            "\n",
            "nst-est2019-01.csv. 100%[===================>]   8.54K  --.-KB/s    in 0s      \n",
            "\n",
            "2021-05-28 00:06:12 (60.4 MB/s) - ‘nst-est2019-01.csv.2’ saved [8748/8748]\n",
            "\n"
          ],
          "name": "stdout"
        }
      ]
    },
    {
      "cell_type": "code",
      "metadata": {
        "colab": {
          "base_uri": "https://localhost:8080/"
        },
        "id": "oJ3Ky2n3kRN3",
        "outputId": "45105b82-4b06-413c-c134-85f184c28d69"
      },
      "source": [
        "all_pol = pd.read_csv('OxCGRT_latest.csv')\n",
        "us_pol = pd.read_csv('OxCGRT_US_latest.csv')\n",
        "us_flu =  pd.read_csv('StateDatabySeason60_5958.csv')\n",
        "#eu_flu =  pd.read_csv('ECDC_surveillance_data_Influenza-1.csv')\n",
        "#all_pol=  pd.read_csv('ox_all.csv')\n",
        "us_pop = pd.read_csv('nst-est2019-01.csv')\n",
        "us_flu_nums = pd.read_csv('WHO_NREVSS_Clinical_Labs_states.csv')"
      ],
      "execution_count": null,
      "outputs": [
        {
          "output_type": "stream",
          "text": [
            "/usr/local/lib/python3.7/dist-packages/IPython/core/interactiveshell.py:2718: DtypeWarning: Columns (2,3) have mixed types.Specify dtype option on import or set low_memory=False.\n",
            "  interactivity=interactivity, compiler=compiler, result=result)\n"
          ],
          "name": "stderr"
        }
      ]
    },
    {
      "cell_type": "markdown",
      "metadata": {
        "id": "ajJeqbnmnesq"
      },
      "source": [
        "Aggregating US flu numbers"
      ]
    },
    {
      "cell_type": "code",
      "metadata": {
        "colab": {
          "base_uri": "https://localhost:8080/",
          "height": 406
        },
        "id": "R1GRBbHfka2z",
        "outputId": "3f5b40fb-a9b0-4749-b34c-c596af85f8e2"
      },
      "source": [
        "us_flu_nums = us_flu_nums[us_flu_nums['TOTAL SPECIMENS'] != 'X']\n",
        "us_flu_nums['TOTAL A'] = pd.to_numeric(us_flu_nums['TOTAL A'])\n",
        "us_flu_nums['TOTAL B'] = pd.to_numeric(us_flu_nums['TOTAL B'])\n",
        "us_flu_nums"
      ],
      "execution_count": null,
      "outputs": [
        {
          "output_type": "execute_result",
          "data": {
            "text/html": [
              "<div>\n",
              "<style scoped>\n",
              "    .dataframe tbody tr th:only-of-type {\n",
              "        vertical-align: middle;\n",
              "    }\n",
              "\n",
              "    .dataframe tbody tr th {\n",
              "        vertical-align: top;\n",
              "    }\n",
              "\n",
              "    .dataframe thead th {\n",
              "        text-align: right;\n",
              "    }\n",
              "</style>\n",
              "<table border=\"1\" class=\"dataframe\">\n",
              "  <thead>\n",
              "    <tr style=\"text-align: right;\">\n",
              "      <th></th>\n",
              "      <th>REGION TYPE</th>\n",
              "      <th>REGION</th>\n",
              "      <th>YEAR</th>\n",
              "      <th>WEEK</th>\n",
              "      <th>TOTAL SPECIMENS</th>\n",
              "      <th>TOTAL A</th>\n",
              "      <th>TOTAL B</th>\n",
              "      <th>PERCENT POSITIVE</th>\n",
              "      <th>PERCENT A</th>\n",
              "      <th>PERCENT B</th>\n",
              "    </tr>\n",
              "  </thead>\n",
              "  <tbody>\n",
              "    <tr>\n",
              "      <th>0</th>\n",
              "      <td>States</td>\n",
              "      <td>Alabama</td>\n",
              "      <td>2018</td>\n",
              "      <td>40</td>\n",
              "      <td>455</td>\n",
              "      <td>2</td>\n",
              "      <td>2</td>\n",
              "      <td>0.88</td>\n",
              "      <td>0.44</td>\n",
              "      <td>0.44</td>\n",
              "    </tr>\n",
              "    <tr>\n",
              "      <th>2</th>\n",
              "      <td>States</td>\n",
              "      <td>Arizona</td>\n",
              "      <td>2018</td>\n",
              "      <td>40</td>\n",
              "      <td>183</td>\n",
              "      <td>0</td>\n",
              "      <td>0</td>\n",
              "      <td>0</td>\n",
              "      <td>0</td>\n",
              "      <td>0</td>\n",
              "    </tr>\n",
              "    <tr>\n",
              "      <th>3</th>\n",
              "      <td>States</td>\n",
              "      <td>Arkansas</td>\n",
              "      <td>2018</td>\n",
              "      <td>40</td>\n",
              "      <td>86</td>\n",
              "      <td>1</td>\n",
              "      <td>0</td>\n",
              "      <td>1.16</td>\n",
              "      <td>1.16</td>\n",
              "      <td>0</td>\n",
              "    </tr>\n",
              "    <tr>\n",
              "      <th>4</th>\n",
              "      <td>States</td>\n",
              "      <td>California</td>\n",
              "      <td>2018</td>\n",
              "      <td>40</td>\n",
              "      <td>409</td>\n",
              "      <td>2</td>\n",
              "      <td>1</td>\n",
              "      <td>0.73</td>\n",
              "      <td>0.49</td>\n",
              "      <td>0.24</td>\n",
              "    </tr>\n",
              "    <tr>\n",
              "      <th>5</th>\n",
              "      <td>States</td>\n",
              "      <td>Colorado</td>\n",
              "      <td>2018</td>\n",
              "      <td>40</td>\n",
              "      <td>366</td>\n",
              "      <td>0</td>\n",
              "      <td>0</td>\n",
              "      <td>0</td>\n",
              "      <td>0</td>\n",
              "      <td>0</td>\n",
              "    </tr>\n",
              "    <tr>\n",
              "      <th>...</th>\n",
              "      <td>...</td>\n",
              "      <td>...</td>\n",
              "      <td>...</td>\n",
              "      <td>...</td>\n",
              "      <td>...</td>\n",
              "      <td>...</td>\n",
              "      <td>...</td>\n",
              "      <td>...</td>\n",
              "      <td>...</td>\n",
              "      <td>...</td>\n",
              "    </tr>\n",
              "    <tr>\n",
              "      <th>6844</th>\n",
              "      <td>States</td>\n",
              "      <td>Vermont</td>\n",
              "      <td>2021</td>\n",
              "      <td>19</td>\n",
              "      <td>91</td>\n",
              "      <td>1</td>\n",
              "      <td>0</td>\n",
              "      <td>1.1</td>\n",
              "      <td>1.1</td>\n",
              "      <td>0</td>\n",
              "    </tr>\n",
              "    <tr>\n",
              "      <th>6845</th>\n",
              "      <td>States</td>\n",
              "      <td>Virginia</td>\n",
              "      <td>2021</td>\n",
              "      <td>19</td>\n",
              "      <td>178</td>\n",
              "      <td>0</td>\n",
              "      <td>0</td>\n",
              "      <td>0</td>\n",
              "      <td>0</td>\n",
              "      <td>0</td>\n",
              "    </tr>\n",
              "    <tr>\n",
              "      <th>6846</th>\n",
              "      <td>States</td>\n",
              "      <td>Washington</td>\n",
              "      <td>2021</td>\n",
              "      <td>19</td>\n",
              "      <td>284</td>\n",
              "      <td>0</td>\n",
              "      <td>0</td>\n",
              "      <td>0</td>\n",
              "      <td>0</td>\n",
              "      <td>0</td>\n",
              "    </tr>\n",
              "    <tr>\n",
              "      <th>6847</th>\n",
              "      <td>States</td>\n",
              "      <td>West Virginia</td>\n",
              "      <td>2021</td>\n",
              "      <td>19</td>\n",
              "      <td>145</td>\n",
              "      <td>0</td>\n",
              "      <td>0</td>\n",
              "      <td>0</td>\n",
              "      <td>0</td>\n",
              "      <td>0</td>\n",
              "    </tr>\n",
              "    <tr>\n",
              "      <th>6848</th>\n",
              "      <td>States</td>\n",
              "      <td>Wisconsin</td>\n",
              "      <td>2021</td>\n",
              "      <td>19</td>\n",
              "      <td>446</td>\n",
              "      <td>0</td>\n",
              "      <td>0</td>\n",
              "      <td>0</td>\n",
              "      <td>0</td>\n",
              "      <td>0</td>\n",
              "    </tr>\n",
              "  </tbody>\n",
              "</table>\n",
              "<p>5757 rows × 10 columns</p>\n",
              "</div>"
            ],
            "text/plain": [
              "     REGION TYPE         REGION  YEAR  ...  PERCENT POSITIVE PERCENT A  PERCENT B\n",
              "0         States        Alabama  2018  ...              0.88      0.44       0.44\n",
              "2         States        Arizona  2018  ...                 0         0          0\n",
              "3         States       Arkansas  2018  ...              1.16      1.16          0\n",
              "4         States     California  2018  ...              0.73      0.49       0.24\n",
              "5         States       Colorado  2018  ...                 0         0          0\n",
              "...          ...            ...   ...  ...               ...       ...        ...\n",
              "6844      States        Vermont  2021  ...               1.1       1.1          0\n",
              "6845      States       Virginia  2021  ...                 0         0          0\n",
              "6846      States     Washington  2021  ...                 0         0          0\n",
              "6847      States  West Virginia  2021  ...                 0         0          0\n",
              "6848      States      Wisconsin  2021  ...                 0         0          0\n",
              "\n",
              "[5757 rows x 10 columns]"
            ]
          },
          "metadata": {
            "tags": []
          },
          "execution_count": 34
        }
      ]
    },
    {
      "cell_type": "code",
      "metadata": {
        "id": "wZIVKJjIgP7y"
      },
      "source": [
        "import locale\n",
        "from locale import atof\n",
        "locale.setlocale(locale.LC_NUMERIC, '')\n",
        "us_pop['2019'] = us_pop['2019'].apply(locale.atof)"
      ],
      "execution_count": null,
      "outputs": []
    },
    {
      "cell_type": "code",
      "metadata": {
        "id": "_97k1iYxQcZe"
      },
      "source": [
        "us_pop['2019'] = us_pop['2019'].astype(int)"
      ],
      "execution_count": null,
      "outputs": []
    },
    {
      "cell_type": "code",
      "metadata": {
        "id": "HAbL2oq0fsXj"
      },
      "source": [
        "us_flu = us_flu_nums"
      ],
      "execution_count": null,
      "outputs": []
    },
    {
      "cell_type": "markdown",
      "metadata": {
        "id": "Oly6uvwyR5pV"
      },
      "source": [
        "#Data Pre-processing\n",
        "\n"
      ]
    },
    {
      "cell_type": "markdown",
      "metadata": {
        "id": "h5O-eLD8pW72"
      },
      "source": [
        "Dropping n/a values in masking policies (these are scaled 1-4)\n"
      ]
    },
    {
      "cell_type": "code",
      "metadata": {
        "id": "ecd3YpZQpKgq"
      },
      "source": [
        "elderly = us_pol[['RegionName','H8_Protection of elderly people','StringencyIndex', 'Date']]\n"
      ],
      "execution_count": null,
      "outputs": []
    },
    {
      "cell_type": "code",
      "metadata": {
        "colab": {
          "base_uri": "https://localhost:8080/",
          "height": 406
        },
        "id": "UO796qCUsKQp",
        "outputId": "cc026db6-5f27-484c-aaae-6fb214020612"
      },
      "source": [
        "eld_clean = elderly.dropna()\n",
        "eld_clean\n"
      ],
      "execution_count": null,
      "outputs": [
        {
          "output_type": "execute_result",
          "data": {
            "text/html": [
              "<div>\n",
              "<style scoped>\n",
              "    .dataframe tbody tr th:only-of-type {\n",
              "        vertical-align: middle;\n",
              "    }\n",
              "\n",
              "    .dataframe tbody tr th {\n",
              "        vertical-align: top;\n",
              "    }\n",
              "\n",
              "    .dataframe thead th {\n",
              "        text-align: right;\n",
              "    }\n",
              "</style>\n",
              "<table border=\"1\" class=\"dataframe\">\n",
              "  <thead>\n",
              "    <tr style=\"text-align: right;\">\n",
              "      <th></th>\n",
              "      <th>RegionName</th>\n",
              "      <th>H8_Protection of elderly people</th>\n",
              "      <th>StringencyIndex</th>\n",
              "      <th>Date</th>\n",
              "    </tr>\n",
              "  </thead>\n",
              "  <tbody>\n",
              "    <tr>\n",
              "      <th>513</th>\n",
              "      <td>Alaska</td>\n",
              "      <td>0.0</td>\n",
              "      <td>0.00</td>\n",
              "      <td>20200101</td>\n",
              "    </tr>\n",
              "    <tr>\n",
              "      <th>514</th>\n",
              "      <td>Alaska</td>\n",
              "      <td>0.0</td>\n",
              "      <td>0.00</td>\n",
              "      <td>20200102</td>\n",
              "    </tr>\n",
              "    <tr>\n",
              "      <th>515</th>\n",
              "      <td>Alaska</td>\n",
              "      <td>0.0</td>\n",
              "      <td>0.00</td>\n",
              "      <td>20200103</td>\n",
              "    </tr>\n",
              "    <tr>\n",
              "      <th>516</th>\n",
              "      <td>Alaska</td>\n",
              "      <td>0.0</td>\n",
              "      <td>0.00</td>\n",
              "      <td>20200104</td>\n",
              "    </tr>\n",
              "    <tr>\n",
              "      <th>517</th>\n",
              "      <td>Alaska</td>\n",
              "      <td>0.0</td>\n",
              "      <td>0.00</td>\n",
              "      <td>20200105</td>\n",
              "    </tr>\n",
              "    <tr>\n",
              "      <th>...</th>\n",
              "      <td>...</td>\n",
              "      <td>...</td>\n",
              "      <td>...</td>\n",
              "      <td>...</td>\n",
              "    </tr>\n",
              "    <tr>\n",
              "      <th>26667</th>\n",
              "      <td>Wyoming</td>\n",
              "      <td>1.0</td>\n",
              "      <td>37.96</td>\n",
              "      <td>20210519</td>\n",
              "    </tr>\n",
              "    <tr>\n",
              "      <th>26668</th>\n",
              "      <td>Wyoming</td>\n",
              "      <td>1.0</td>\n",
              "      <td>37.96</td>\n",
              "      <td>20210520</td>\n",
              "    </tr>\n",
              "    <tr>\n",
              "      <th>26669</th>\n",
              "      <td>Wyoming</td>\n",
              "      <td>1.0</td>\n",
              "      <td>26.85</td>\n",
              "      <td>20210521</td>\n",
              "    </tr>\n",
              "    <tr>\n",
              "      <th>26670</th>\n",
              "      <td>Wyoming</td>\n",
              "      <td>1.0</td>\n",
              "      <td>26.85</td>\n",
              "      <td>20210522</td>\n",
              "    </tr>\n",
              "    <tr>\n",
              "      <th>26671</th>\n",
              "      <td>Wyoming</td>\n",
              "      <td>1.0</td>\n",
              "      <td>26.85</td>\n",
              "      <td>20210523</td>\n",
              "    </tr>\n",
              "  </tbody>\n",
              "</table>\n",
              "<p>25760 rows × 4 columns</p>\n",
              "</div>"
            ],
            "text/plain": [
              "      RegionName  H8_Protection of elderly people  StringencyIndex      Date\n",
              "513       Alaska                              0.0             0.00  20200101\n",
              "514       Alaska                              0.0             0.00  20200102\n",
              "515       Alaska                              0.0             0.00  20200103\n",
              "516       Alaska                              0.0             0.00  20200104\n",
              "517       Alaska                              0.0             0.00  20200105\n",
              "...          ...                              ...              ...       ...\n",
              "26667    Wyoming                              1.0            37.96  20210519\n",
              "26668    Wyoming                              1.0            37.96  20210520\n",
              "26669    Wyoming                              1.0            26.85  20210521\n",
              "26670    Wyoming                              1.0            26.85  20210522\n",
              "26671    Wyoming                              1.0            26.85  20210523\n",
              "\n",
              "[25760 rows x 4 columns]"
            ]
          },
          "metadata": {
            "tags": []
          },
          "execution_count": 39
        }
      ]
    },
    {
      "cell_type": "markdown",
      "metadata": {
        "id": "xaNfVEcuSx4G"
      },
      "source": [
        "Dropping 2004-2018-week-40 data (this is not generalized and prob should be) "
      ]
    },
    {
      "cell_type": "markdown",
      "metadata": {
        "id": "uVjnNcAIS9fj"
      },
      "source": [
        "Encoding flu activity level"
      ]
    },
    {
      "cell_type": "markdown",
      "metadata": {
        "id": "8vno4awqmB9X"
      },
      "source": [
        "Isolating State Data\n",
        "\n",
        "(The commented out parts are where we were experimenting with different groups of states based on political leadership; this is not actually included in the final model)"
      ]
    },
    {
      "cell_type": "code",
      "metadata": {
        "id": "_K9BbfNMqt1l"
      },
      "source": [
        "us_flu = us_flu.rename(columns = {'REGION':'STATENAME'})\n",
        "ia= us_flu[us_flu['STATENAME']=='Iowa']#\n",
        "ca = us_flu[us_flu['STATENAME']=='California']\n",
        "ny = us_flu[us_flu['STATENAME']=='New York']\n",
        "ma = us_flu[us_flu['STATENAME']=='Massachusetts']#\n",
        "tn = us_flu[us_flu['STATENAME']=='Tennessee']\n",
        "\n",
        "fl = us_flu[us_flu['STATENAME']=='Florida']#\n",
        "tx = us_flu[us_flu['STATENAME']=='Texas']#\n",
        "wa = us_flu[us_flu['STATENAME']=='Washington']#\n",
        "la = us_flu[us_flu['STATENAME']=='Louisiana']\n",
        "#\n",
        "nm = us_flu[us_flu['STATENAME']=='New Mexico']#\n",
        "\n",
        "az = us_flu[us_flu['STATENAME']=='Arizona']\n",
        "ut = us_flu[us_flu['STATENAME']=='Utah']\n",
        "co = us_flu[us_flu['STATENAME']=='Colorado'] #\n",
        "nv = us_flu[us_flu['STATENAME']=='Nevada']\n",
        "og = us_flu[us_flu['STATENAME']=='Oregon']#\n",
        "\n",
        "mn = us_flu[us_flu['STATENAME']=='Maine']#\n",
        "nc = us_flu[us_flu['STATENAME']=='North Carolina']#\n",
        "sc = us_flu[us_flu['STATENAME']=='South Carolina']\n",
        "nd = us_flu[us_flu['STATENAME']=='North Dakota']\n",
        "sd = us_flu[us_flu['STATENAME']=='South Dakota']#\n",
        "\n",
        "wy = us_flu[us_flu['STATENAME']=='Wyoming']\n",
        "ct = us_flu[us_flu['STATENAME']=='Connecticut']\n",
        "nj = us_flu[us_flu['STATENAME']=='New Jersey']\n",
        "nh = us_flu[us_flu['STATENAME']=='New Hampshire']#\n",
        "vt = us_flu[us_flu['STATENAME']=='Vermont']#\n",
        "\n",
        "ky = us_flu[us_flu['STATENAME']=='Kentucky']#\n",
        "al = us_flu[us_flu['STATENAME']=='Alabama']\n",
        "ga = us_flu[us_flu['STATENAME']=='Georgia']\n",
        "ms = us_flu[us_flu['STATENAME']=='Mississippi']\n",
        "ks = us_flu[us_flu['STATENAME']=='Kansas']\n",
        "\n",
        "nb = us_flu[us_flu['STATENAME']=='Nebraska']#\n",
        "id = us_flu[us_flu['STATENAME']=='Indiana']\n",
        "il = us_flu[us_flu['STATENAME']=='Illinois']#\n",
        "mi = us_flu[us_flu['STATENAME']=='Michigan']\n",
        "wi = us_flu[us_flu['STATENAME']=='Wisconsin']#\n",
        "\n",
        "misu = us_flu[us_flu['STATENAME']=='Missouri']#\n",
        "ok = us_flu[us_flu['STATENAME']=='Oklahoma']\n",
        "mt = us_flu[us_flu['STATENAME']=='Montana']\n",
        "ih = us_flu[us_flu['STATENAME']=='Idaho']\n",
        "min = us_flu[us_flu['STATENAME']=='Minnesota']#\n",
        "\n",
        "va = us_flu[us_flu['STATENAME']=='Virginia']\n",
        "wv = us_flu[us_flu['STATENAME']=='West Virginia']\n",
        "md = us_flu[us_flu['STATENAME']=='Maryland']\n",
        "de = us_flu[us_flu['STATENAME']=='Delaware'] #\n",
        "oh = us_flu[us_flu['STATENAME']=='Ohio']#\n",
        "\n",
        "pa = us_flu[us_flu['STATENAME']=='Pennsylvania']\n",
        "ri = us_flu[us_flu['STATENAME']=='Rhode Island']#\n",
        "hi = us_flu[us_flu['STATENAME']=='Hawaii']#\n",
        "ak = us_flu[us_flu['STATENAME']=='Alaska'] #\n",
        "ar = us_flu[us_flu['STATENAME']=='Arkansas'] #\n",
        "\n",
        "\n",
        "\n",
        "state_list = [ia, ca, ny, ma, tn, fl, tx, wa, la, nm, az, ut, co, nv, og, nm, nc, sc, nd, sd, wy, ct, nj, nh, vt, ky, al, ga, ms, ks, nb, id, \n",
        "              il, mi, wi, misu, ok, mt, ih, min, va, wv, md, de, oh, pa, ri, hi, ak, ar]\n",
        "states = [\"Iowa\", \"California\", \"New York\", \"Massachusetts\", \"Tennessee\", \"Florida\", \"Texas\", \"Washington\", \"Louisiana\", \"New Mexico\", \"Arizona\", \"Utah\", \"Colorado\", \"Nevada\", \"Oregon\",\n",
        "          \"Maine\", \"North Carolina\", \"South Carolina\", \"North Dakota\", \"South Dakota\", \"Wyoming\", \"Connecticut\", \"New Jersey\", \"New Hampshire\", \"Vermont\", \"Kentucky\", \"Alabama\", \"Georgia\",\n",
        "          \"Mississippi\", \"Kansas\", \"Nebraska\", \"Indiana\", \"Illinois\", \"Michigan\", \"Wisconsin\", \"Missouri\", \"Oklahoma\", \"Montana\", \"Idaho\",\"Minnesota\", \n",
        "          \"Virginia\", \"West Virginia\", \"Maryland\", \"Delaware\", \"Ohio\", \"Pennsylvania\", \"Rhode Island\", \"Hawaii\", \"Alaska\", \"Arkansas\"]\n",
        "\n",
        "\n",
        "# state_list = [ ca, ny, ma, wa, co, ct, nj, nh, vt, il,  md, de, pa, ri, hi]\n",
        "# states = [ \"California\", \"New York\", \"Massachusetts\", \"Washington\", \"Colorado\", \"Connecticut\", \"New Jersey\", \"New Hampshire\", \"Vermont\", \"Illinois\", \n",
        "#           \"Maryland\", \"Delaware\", \"Pennsylvania\", \"Rhode Island\", \"Hawaii\"]\n",
        "\n",
        "\n",
        "\n",
        "# state_list = [ tn, fl, tx, nc, sc, nd, sd, ky, al, ga, ms, ks, nb, id]\n",
        "# states = [\"Tennessee\", \"Florida\", \"Texas\",  \"North Carolina\", \"South Carolina\", \"North Dakota\", \"South Dakota\",  \"Kentucky\", \"Alabama\", \"Georgia\",\n",
        "#           \"Mississippi\", \"Kansas\", \"Nebraska\", \"Idaho\"]\n",
        "\n",
        "\n",
        "# state_list = [ tn]\n",
        "# states = [\"Tennessee\"]\n",
        "\n",
        "\n",
        "          "
      ],
      "execution_count": null,
      "outputs": []
    },
    {
      "cell_type": "markdown",
      "metadata": {
        "id": "iNj1GH-Fs_kb"
      },
      "source": [
        "Dropping unnecessary dates in masking data (mostly to make first day line up with beginning of week 1 in 2020 (jan 4)) \n"
      ]
    },
    {
      "cell_type": "code",
      "metadata": {
        "id": "tqWKjjSEtCRr"
      },
      "source": [
        "elderly = us_pol[['RegionName','H8_Protection of elderly people','StringencyIndex', 'Date']]\n",
        "eld_clean = elderly.dropna()\n",
        "\n",
        "\n",
        "eld_pol = eld_clean\n",
        "\n",
        "\n",
        "# droping any data with date before Jan. 4th 2020\n",
        "eld_pol = eld_pol.drop(eld_clean[(eld_clean.Date < 20200104)].index)\n",
        "\n"
      ],
      "execution_count": null,
      "outputs": []
    },
    {
      "cell_type": "markdown",
      "metadata": {
        "id": "cONuPuC2rfn6"
      },
      "source": [
        "#Getting week numbers to align \n",
        "\n",
        "The flu data is weekly and masking data is daily, so we take 7-day averages of masking data in each region\n"
      ]
    },
    {
      "cell_type": "code",
      "metadata": {
        "id": "iTm6FwXjriRt"
      },
      "source": [
        "eld_all = [] # these two will hold arrays for each state \n",
        "si_all=[]\n",
        "for item in states:\n",
        "  state_eld= eld_pol[(eld_pol['RegionName']== item)]\n",
        "\n",
        "  eld  = list(state_eld[\"H8_Protection of elderly people\"])\n",
        "  si_vals  = list(state_eld[\"StringencyIndex\"])\n",
        "\n",
        "  eld_all.append(eld)\n",
        "  si_all.append(si_vals)"
      ],
      "execution_count": null,
      "outputs": []
    },
    {
      "cell_type": "markdown",
      "metadata": {
        "id": "QqwEv_uqxI73"
      },
      "source": [
        "#Creating aggregate input data set of week, masking policy, stringency index \n",
        "\n",
        "Engineer data from 2018-week-40 to 2020-week-1 of no masking, no stringency \n",
        "\n",
        "(there were 64 weeks in this period)"
      ]
    },
    {
      "cell_type": "code",
      "metadata": {
        "colab": {
          "base_uri": "https://localhost:8080/"
        },
        "id": "BvvsLAPzL6bn",
        "outputId": "b718e20a-eb46-4e50-8ee0-d828de905936"
      },
      "source": [
        "#creating 0 masking policy data\n",
        "aug_x = []\n",
        "for i in range(0, 65):\n",
        "  for j in range(0,7):\n",
        "    day = ((7*i)+j + 279) % 366 # unsure of this 279 number \n",
        "    aug_x.append([math.cos(2*math.pi*day/365),math.sin(2*math.pi*day/365), 0.0,0.0])\n",
        "print(aug_x)\n"
      ],
      "execution_count": null,
      "outputs": [
        {
          "output_type": "stream",
          "text": [
            "[[0.0902516100310407, -0.9959189961471792, 0.0, 0.0], [0.10738134666416306, -0.994217906893952, 0.0, 0.0], [0.12447926388678869, -0.9922222094179324, 0.0, 0.0], [0.141540295217043, -0.989932495087353, 0.0, 0.0], [0.15855938510313475, -0.9873494423939864, 0.0, 0.0], [0.17553149042142777, -0.9844738167520923, 0.0, 0.0], [0.19245158197082995, -0.9813064702716093, 0.0, 0.0], [0.20931464596304888, -0.9778483415056568, 0.0, 0.0], [0.22611568550828803, -0.9741004551724206, 0.0, 0.0], [0.2428497220959358, -0.970063921851507, 0.0, 0.0], [0.25951179706979943, -0.965739937654855, 0.0, 0.0], [0.27609697309746883, -0.9611297838723007, 0.0, 0.0], [0.2926003356333479, -0.9562348265919058, 0.0, 0.0], [0.30901699437494723, -0.9510565162951536, 0.0, 0.0], [0.3253420847119795, -0.9455963874271428, 0.0, 0.0], [0.341570769167856, -0.9398560579418953, 0.0, 0.0], [0.35769823883312546, -0.9338372288229252, 0.0, 0.0], [0.3737197147904692, -0.9275416835791965, 0.0, 0.0], [0.38963044953078774, -0.9209712877166346, 0.0, 0.0], [0.4054257283599973, -0.9141279881853337, 0.0, 0.0], [0.42110087079608916, -0.9070138128026362, 0.0, 0.0], [0.4366512319560638, -0.8996308696522434, 0.0, 0.0], [0.45207220393230374, -0.8919813464595487, 0.0, 0.0], [0.46735921715800205, -0.8840675099433637, 0.0, 0.0], [0.48250774176121763, -0.8758917051442433, 0.0, 0.0], [0.4975132889071803, -0.8674563547295971, 0.0, 0.0], [0.5123714121284235, -0.8587639582758031, 0.0, 0.0], [0.5270777086423724, -0.8498170915275277, 0.0, 0.0], [0.5416278206559811, -0.8406184056344783, 0.0, 0.0], [0.5560174366570446, -0.8311706263658079, 0.0, 0.0], [0.5702422926917867, -0.8214765533024145, 0.0, 0.0], [0.5842981736283683, -0.8115390590073611, 0.0, 0.0], [0.5981809144059159, -0.801361088174677, 0.0, 0.0], [0.6118864012687242, -0.7909456567567774, 0.0, 0.0], [0.6254105729852457, -0.780295851070776, 0.0, 0.0], [0.6387494220515268, -0.7694148268839381, 0.0, 0.0], [0.6518989958787125, -0.7583058084785625, 0.0, 0.0], [0.6648553979642866, -0.7469720876965551, 0.0, 0.0], [0.6776147890466887, -0.7354170229639858, 0.0, 0.0], [0.690173388242972, -0.7236440382959123, 0.0, 0.0], [0.7025274741691566, -0.7116566222817751, 0.0, 0.0], [0.7146733860429609, -0.6994583270516471, 0.0, 0.0], [0.726607524768565, -0.6870527672236675, 0.0, 0.0], [0.7383263540031063, -0.6744436188329457, 0.0, 0.0], [0.749826401204568, -0.661634618242279, 0.0, 0.0], [0.7611042586607742, -0.6486295610349818, 0.0, 0.0], [0.7721565844991641, -0.6354323008901775, 0.0, 0.0], [0.7829801036770625, -0.622046748440868, 0.0, 0.0], [0.7935716089521472, -0.6084768701151264, 0.0, 0.0], [0.8039279618328208, -0.594726686960764, 0.0, 0.0], [0.8140460935082175, -0.5808002734538013, 0.0, 0.0], [0.8239230057575536, -0.5667017562911184, 0.0, 0.0], [0.8335557718385695, -0.5524353131676203, 0.0, 0.0], [0.8429415373547832, -0.5380051715382992, 0.0, 0.0], [0.8520775211013093, -0.5234156073655503, 0.0, 0.0], [0.8609610158889945, -0.5086709438521042, 0.0, 0.0], [0.8695893893466109, -0.49377555015997737, 0.0, 0.0], [0.8779600847008883, -0.4787338401157883, 0.0, 0.0], [0.8860706215341378, -0.4635502709028512, 0.0, 0.0], [0.893918596519257, -0.4482293417404106, 0.0, 0.0], [0.9015016841318838, -0.4327755925504317, 0.0, 0.0], [0.9088176373395028, -0.41719360261231697, 0.0, 0.0], [0.9158642882672868, -0.4014879892059737, 0.0, 0.0], [0.9226395488404875, -0.38566340624360745, 0.0, 0.0], [0.9291414114031743, -0.3697245428906732, 0.0, 0.0], [0.935367949313148, -0.35367612217637207, 0.0, 0.0], [0.941317317512847, -0.33752289959411347, 0.0, 0.0], [0.9469877530760751, -0.32126966169236515, 0.0, 0.0], [0.9523775757303973, -0.3049212246562894, 0.0, 0.0], [0.9574851883550389, -0.2884824328806098, 0.0, 0.0], [0.9623090774541487, -0.27195815753410524, 0.0, 0.0], [0.9668478136052773, -0.2553532951161881, 0.0, 0.0], [0.9711000518829505, -0.23867276600594997, 0.0, 0.0], [0.9750645322571945, -0.22192151300416674, 0.0, 0.0], [0.9787400799669153, -0.20510449986861926, 0.0, 0.0], [0.9821256058680006, -0.1882267098432439, 0.0, 0.0], [0.9852201067560606, -0.1712931441814778, 0.0, 0.0], [0.9880226656636976, -0.154308820664281, 0.0, 0.0], [0.9905324521322227, -0.13727877211326517, 0.0, 0.0], [0.9927487224577402, -0.12020804489935275, 0.0, 0.0], [0.9946708199115211, -0.10310169744743544, 0.0, 0.0], [0.9962981749346077, -0.0859647987374467, 0.0, 0.0], [0.9976303053065857, -0.06880242680232064, 0.0, 0.0], [0.9986668162884759, -0.05161966722325418, 0.0, 0.0], [0.9994074007397048, -0.034421611622745804, 0.0, 0.0], [0.9998518392091162, -0.01721335615583528, 0.0, 0.0], [1.0, 6.432490598706546e-16, 0.0, 0.0], [1.0, 0.0, 0.0, 0.0], [0.9998518392091162, 0.017213356155834685, 0.0, 0.0], [0.9994074007397048, 0.03442161162274574, 0.0, 0.0], [0.998666816288476, 0.051619667223253764, 0.0, 0.0], [0.9976303053065857, 0.06880242680231986, 0.0, 0.0], [0.9962981749346078, 0.08596479873744647, 0.0, 0.0], [0.9946708199115211, 0.10310169744743485, 0.0, 0.0], [0.9927487224577402, 0.1202080448993527, 0.0, 0.0], [0.9905324521322229, 0.13727877211326478, 0.0, 0.0], [0.9880226656636976, 0.15430882066428117, 0.0, 0.0], [0.9852201067560606, 0.1712931441814776, 0.0, 0.0], [0.9821256058680006, 0.1882267098432442, 0.0, 0.0], [0.9787400799669153, 0.2051044998686192, 0.0, 0.0], [0.9750645322571948, 0.2219215130041655, 0.0, 0.0], [0.9711000518829505, 0.2386727660059501, 0.0, 0.0], [0.9668478136052775, 0.255353295116187, 0.0, 0.0], [0.9623090774541486, 0.2719581575341055, 0.0, 0.0], [0.9574851883550393, 0.288482432880609, 0.0, 0.0], [0.9523775757303974, 0.30492122465628907, 0.0, 0.0], [0.9469877530760753, 0.3212696616923644, 0.0, 0.0], [0.9413173175128471, 0.3375228995941133, 0.0, 0.0], [0.9353679493131483, 0.3536761221763716, 0.0, 0.0], [0.9291414114031743, 0.3697245428906731, 0.0, 0.0], [0.9226395488404876, 0.38566340624360707, 0.0, 0.0], [0.9158642882672872, 0.401487989205973, 0.0, 0.0], [0.9088176373395029, 0.4171936026123168, 0.0, 0.0], [0.901501684131884, 0.4327755925504312, 0.0, 0.0], [0.893918596519257, 0.4482293417404106, 0.0, 0.0], [0.886070621534138, 0.4635502709028509, 0.0, 0.0], [0.8779600847008882, 0.47873384011578846, 0.0, 0.0], [0.869589389346611, 0.4937755501599772, 0.0, 0.0], [0.8609610158889943, 0.5086709438521044, 0.0, 0.0], [0.8520775211013093, 0.5234156073655503, 0.0, 0.0], [0.8429415373547828, 0.5380051715382996, 0.0, 0.0], [0.8335557718385699, 0.5524353131676196, 0.0, 0.0], [0.8239230057575542, 0.5667017562911176, 0.0, 0.0], [0.8140460935082178, 0.5808002734538009, 0.0, 0.0], [0.8039279618328213, 0.5947266869607634, 0.0, 0.0], [0.7935716089521474, 0.6084768701151261, 0.0, 0.0], [0.7829801036770628, 0.6220467484408675, 0.0, 0.0], [0.7721565844991642, 0.6354323008901774, 0.0, 0.0], [0.7611042586607747, 0.6486295610349814, 0.0, 0.0], [0.7498264012045686, 0.6616346182422783, 0.0, 0.0], [0.7383263540031065, 0.6744436188329455, 0.0, 0.0], [0.7266075247685656, 0.6870527672236669, 0.0, 0.0], [0.7146733860429609, 0.6994583270516471, 0.0, 0.0], [0.7025274741691571, 0.7116566222817746, 0.0, 0.0], [0.6901733882429719, 0.7236440382959124, 0.0, 0.0], [0.6776147890466889, 0.7354170229639855, 0.0, 0.0], [0.6648553979642865, 0.7469720876965552, 0.0, 0.0], [0.6518989958787126, 0.7583058084785624, 0.0, 0.0], [0.6387494220515272, 0.7694148268839378, 0.0, 0.0], [0.6254105729852463, 0.7802958510707755, 0.0, 0.0], [0.6118864012687243, 0.7909456567567772, 0.0, 0.0], [0.5981809144059164, 0.8013610881746766, 0.0, 0.0], [0.5842981736283684, 0.811539059007361, 0.0, 0.0], [0.5702422926917871, 0.8214765533024142, 0.0, 0.0], [0.5560174366570446, 0.8311706263658079, 0.0, 0.0], [0.5416278206559814, 0.8406184056344782, 0.0, 0.0], [0.5270777086423722, 0.8498170915275278, 0.0, 0.0], [0.5123714121284237, 0.8587639582758029, 0.0, 0.0], [0.49751328890718066, 0.8674563547295968, 0.0, 0.0], [0.48250774176121847, 0.8758917051442429, 0.0, 0.0], [0.4673592171580022, 0.8840675099433636, 0.0, 0.0], [0.45207220393230435, 0.8919813464595485, 0.0, 0.0], [0.43665123195606403, 0.8996308696522433, 0.0, 0.0], [0.4211008707960896, 0.9070138128026359, 0.0, 0.0], [0.40542572835999735, 0.9141279881853337, 0.0, 0.0], [0.38963044953078796, 0.9209712877166346, 0.0, 0.0], [0.37371971479046906, 0.9275416835791966, 0.0, 0.0], [0.35769823883312546, 0.9338372288229252, 0.0, 0.0], [0.3415707691678556, 0.9398560579418954, 0.0, 0.0], [0.3253420847119801, 0.9455963874271426, 0.0, 0.0], [0.30901699437494745, 0.9510565162951535, 0.0, 0.0], [0.29260033563334836, 0.9562348265919056, 0.0, 0.0], [0.27609697309746883, 0.9611297838723007, 0.0, 0.0], [0.2595117970697999, 0.9657399376548549, 0.0, 0.0], [0.2428497220959356, 0.9700639218515071, 0.0, 0.0], [0.22611568550828828, 0.9741004551724205, 0.0, 0.0], [0.20931464596304847, 0.9778483415056568, 0.0, 0.0], [0.19245158197082998, 0.9813064702716093, 0.0, 0.0], [0.1755314904214282, 0.9844738167520922, 0.0, 0.0], [0.15855938510313478, 0.9873494423939864, 0.0, 0.0], [0.141540295217043, 0.989932495087353, 0.0, 0.0], [0.12447926388678915, 0.9922222094179323, 0.0, 0.0], [0.10738134666416309, 0.994217906893952, 0.0, 0.0], [0.09025161003104117, 0.995918996147179, 0.0, 0.0], [0.07309512989807777, 0.9973249731081555, 0.0, 0.0], [0.055916990100603484, 0.9984354211555643, 0.0, 0.0], [0.03872228089217446, 0.9992500112396835, 0.0, 0.0], [0.021516097436222254, 0.9997685019798909, 0.0, 0.0], [0.004303538296244289, 0.9999907397361901, 0.0, 0.0], [-0.01291029607500882, 0.9999166586547379, 0.0, 0.0], [-0.030120304846908114, 0.9995462806873573, 0.0, 0.0], [-0.04732138832243185, 0.9988797155850336, 0.0, 0.0], [-0.06450844944931623, 0.9979171608653922, 0.0, 0.0], [-0.08167639533042241, 0.9966589017541702, 0.0, 0.0], [-0.09882013873287143, 0.9951053111006976, 0.0, 0.0], [-0.11593459959550041, 0.9932568492674143, 0.0, 0.0], [-0.1330147065341959, 0.9911140639934547, 0.0, 0.0], [-0.1500553983446526, 0.9886775902323405, 0.0, 0.0], [-0.16705162550211924, 0.9859481499638304, 0.0, 0.0], [-0.18399835165768005, 0.9829265519799822, 0.0, 0.0], [-0.20089055513063506, 0.9796136916454901, 0.0, 0.0], [-0.21772323039653177, 0.9760105506323683, 0.0, 0.0], [-0.23449138957040985, 0.9721181966290613, 0.0, 0.0], [-0.25119006388481935, 0.9679377830240642, 0.0, 0.0], [-0.2678143051621742, 0.9634705485641488, 0.0, 0.0], [-0.2843591872810034, 0.9587178169872964, 0.0, 0.0], [-0.30081980763566735, 0.9536809966304457, 0.0, 0.0], [-0.3171912885891061, 0.9483615800121715, 0.0, 0.0], [-0.3334687789181868, 0.9427611433904207, 0.0, 0.0], [-0.3496474552512284, 0.9368813462954315, 0.0, 0.0], [-0.36572252349726897, 0.9307239310379795, 0.0, 0.0], [-0.3816892202666588, 0.9242907221930934, 0.0, 0.0], [-0.39754281428255595, 0.9175836260593937, 0.0, 0.0], [-0.4132786077829042, 0.9106046300942163, 0.0, 0.0], [-0.4288919379124835, 0.9033558023246845, 0.0, 0.0], [-0.4443781781046132, 0.895839290734909, 0.0, 0.0], [-0.45973273945210397, 0.8880573226294932, 0.0, 0.0], [-0.47495107206704995, 0.8800122039735357, 0.0, 0.0], [-0.49002866642905923, 0.8717063187093219, 0.0, 0.0], [-0.5049610547215204, 0.8631421280499114, 0.0, 0.0], [-0.5197438121555155, 0.854322169749827, 0.0, 0.0], [-0.5343725582809786, 0.8452490573530633, 0.0, 0.0], [-0.548842958284719, 0.8359254794186372, 0.0, 0.0], [-0.5631507242749186, 0.8263541987239096, 0.0, 0.0], [-0.5772916165517272, 0.8165380514459161, 0.0, 0.0], [-0.5912614448635781, 0.8064799463209448, 0.0, 0.0], [-0.6050560696488488, 0.7961828637826158, 0.0, 0.0], [-0.6186714032625031, 0.7856498550787147, 0.0, 0.0], [-0.6321034111873487, 0.7748840413670407, 0.0, 0.0], [-0.6453481132295501, 0.7638886127905428, 0.0, 0.0], [-0.6584015846980488, 0.7526668275320084, 0.0, 0.0], [-0.6712599575675313, 0.741222010848596, 0.0, 0.0], [-0.6839194216246106, 0.7295575540864875, 0.0, 0.0], [-0.6963762255968722, 0.717676913675962, 0.0, 0.0], [-0.7086266782644596, 0.705583610107178, 0.0, 0.0], [-0.7206671495538609, 0.6932812268869777, 0.0, 0.0], [-0.7324940716135789, 0.6807734094770161, 0.0, 0.0], [-0.7441039398713607, 0.6680638642135335, 0.0, 0.0], [-0.7554933140726803, 0.6551563572090853, 0.0, 0.0], [-0.766658819300159, 0.6420547132365637, 0.0, 0.0], [-0.777597146973627, 0.6287628145958344, 0.0, 0.0], [-0.7883050558305255, 0.6152845999633276, 0.0, 0.0], [-0.7987793728863649, 0.6016240632249226, 0.0, 0.0], [-0.8090169943749473, 0.5877852522924732, 0.0, 0.0], [-0.8190148866680801, 0.5737722679043246, 0.0, 0.0], [-0.8287700871745038, 0.5595892624101765, 0.0, 0.0], [-0.8382797052177744, 0.545240438540651, 0.0, 0.0], [-0.8475409228928311, 0.5307300481619334, 0.0, 0.0], [-0.8565509959010036, 0.5160623910158528, 0.0, 0.0], [-0.865307254363206, 0.5012418134457758, 0.0, 0.0], [-0.8738071036110808, 0.48627270710869, 0.0, 0.0], [-0.8820480249558537, 0.4711595076738638, 0.0, 0.0], [-0.8900275764346767, 0.4559066935084588, 0.0, 0.0], [-0.8977433935342337, 0.440518784350495, 0.0, 0.0], [-0.9051931898913974, 0.42500033996955416, 0.0, 0.0], [-0.9123747579707273, 0.4093559588156213, 0.0, 0.0], [-0.9192859697186104, 0.39359027665646673, 0.0, 0.0], [-0.9259247771938498, 0.3777079652039649, 0.0, 0.0], [-0.9322892131745133, 0.36171373072976765, 0.0, 0.0], [-0.9383773917408641, 0.3456123126707335, 0.0, 0.0], [-0.9441875088341993, 0.3294084822245304, 0.0, 0.0], [-0.9497178427914316, 0.3131070409358269, 0.0, 0.0], [-0.9549667548552551, 0.29671281927349075, 0.0, 0.0], [-0.9599326896597447, 0.2802306751992159, 0.0, 0.0], [-0.9646141756912435, 0.26366549272800704, 0.0, 0.0], [-0.9690098257244062, 0.24702218048093552, 0.0, 0.0], [-0.9731183372332619, 0.23030567023061221, 0.0, 0.0], [-0.9769384927771817, 0.21352091543979612, 0.0, 0.0], [-0.980469160361632, 0.19667288979357647, 0.0, 0.0], [-0.9837092937736097, 0.1797665857255624, 0.0, 0.0], [-0.986657932891657, 0.16280701293851715, 0.0, 0.0], [-0.9893142039703663, 0.1457991969198751, 0.0, 0.0], [-0.99167731989929, 0.12874817745258132, 0.0, 0.0], [-0.993746580436178, 0.11165900712169512, 0.0, 0.0], [-0.9955213724144752, 0.09453674981719912, 0.0, 0.0], [-0.9970011699250151, 0.07738647923346301, 0.0, 0.0], [-0.9981855344718586, 0.06021327736579302, 0.0, 0.0], [-0.99907411510223, 0.04302223300453059, 0.0, 0.0], [-0.9996666485105112, 0.02581844022713308, 0.0, 0.0], [-0.9999629591162655, 0.008606996888688698, 0.0, 0.0], [-0.9999629591162655, -0.008606996888688009, 0.0, 0.0], [-0.9996666485105112, -0.02581844022713239, 0.0, 0.0], [-0.99907411510223, -0.04302223300453034, 0.0, 0.0], [-0.9981855344718586, -0.060213277365792774, 0.0, 0.0], [-0.9970011699250151, -0.07738647923346322, 0.0, 0.0], [-0.9955213724144752, -0.09453674981719933, 0.0, 0.0], [-0.9937465804361781, -0.11165900712169444, 0.0, 0.0], [-0.99167731989929, -0.12874817745258066, 0.0, 0.0], [-0.9893142039703664, -0.14579919691987442, 0.0, 0.0], [-0.9866579328916572, -0.16280701293851646, 0.0, 0.0], [-0.9837092937736098, -0.17976658572556214, 0.0, 0.0], [-0.9804691603616321, -0.19667288979357622, 0.0, 0.0], [-0.9769384927771817, -0.2135209154397959, 0.0, 0.0], [-0.973118337233262, -0.23030567023061196, 0.0, 0.0], [-0.9690098257244063, -0.24702218048093527, 0.0, 0.0], [-0.9646141756912435, -0.2636654927280072, 0.0, 0.0], [-0.9599326896597445, -0.2802306751992161, 0.0, 0.0], [-0.9549667548552553, -0.2967128192734901, 0.0, 0.0], [-0.9497178427914317, -0.3131070409358267, 0.0, 0.0], [-0.9441875088341994, -0.3294084822245302, 0.0, 0.0], [-0.9383773917408642, -0.3456123126707333, 0.0, 0.0], [-0.9322892131745134, -0.3617137307297674, 0.0, 0.0], [-0.9259247771938499, -0.37770796520396466, 0.0, 0.0], [-0.9192859697186105, -0.39359027665646645, 0.0, 0.0], [-0.9123747579707274, -0.4093559588156211, 0.0, 0.0], [-0.9051931898913975, -0.42500033996955394, 0.0, 0.0], [-0.8977433935342336, -0.4405187843504952, 0.0, 0.0], [-0.8900275764346766, -0.455906693508459, 0.0, 0.0], [-0.8820480249558535, -0.47115950767386394, 0.0, 0.0], [-0.8738071036110807, -0.4862727071086902, 0.0, 0.0], [-0.8653072543632061, -0.5012418134457756, 0.0, 0.0], [-0.8565509959010037, -0.5160623910158526, 0.0, 0.0], [-0.8475409228928312, -0.5307300481619331, 0.0, 0.0], [-0.8382797052177745, -0.5452404385406507, 0.0, 0.0], [-0.828770087174504, -0.5595892624101763, 0.0, 0.0], [-0.8190148866680802, -0.5737722679043243, 0.0, 0.0], [-0.8090169943749472, -0.5877852522924734, 0.0, 0.0], [-0.7987793728863648, -0.6016240632249227, 0.0, 0.0], [-0.7883050558305253, -0.6152845999633277, 0.0, 0.0], [-0.7775971469736268, -0.6287628145958345, 0.0, 0.0], [-0.7666588193001592, -0.6420547132365636, 0.0, 0.0], [-0.7554933140726804, -0.655156357209085, 0.0, 0.0], [-0.7441039398713608, -0.6680638642135333, 0.0, 0.0], [-0.732494071613579, -0.680773409477016, 0.0, 0.0], [-0.7206671495538615, -0.6932812268869771, 0.0, 0.0], [-0.70862667826446, -0.7055836101071774, 0.0, 0.0], [-0.6963762255968726, -0.7176769136759615, 0.0, 0.0], [-0.6839194216246105, -0.7295575540864876, 0.0, 0.0], [-0.6712599575675315, -0.7412220108485957, 0.0, 0.0], [-0.6584015846980489, -0.7526668275320083, 0.0, 0.0], [-0.64534811322955, -0.7638886127905429, 0.0, 0.0], [-0.6321034111873488, -0.7748840413670406, 0.0, 0.0], [-0.6186714032625032, -0.7856498550787144, 0.0, 0.0], [-0.6050560696488494, -0.7961828637826154, 0.0, 0.0], [-0.5912614448635783, -0.8064799463209447, 0.0, 0.0], [-0.5772916165517278, -0.8165380514459157, 0.0, 0.0], [-0.5631507242749189, -0.8263541987239094, 0.0, 0.0], [-0.5488429582847199, -0.8359254794186365, 0.0, 0.0], [-0.5343725582809785, -0.8452490573530633, 0.0, 0.0], [-0.5197438121555157, -0.8543221697498269, 0.0, 0.0], [-0.5049610547215202, -0.8631421280499115, 0.0, 0.0], [-0.4900286664290594, -0.8717063187093217, 0.0, 0.0], [-0.4749510720670502, -0.8800122039735356, 0.0, 0.0], [-0.4597327394521046, -0.888057322629493, 0.0, 0.0], [-0.4443781781046134, -0.8958392907349089, 0.0, 0.0], [-0.4288919379124841, -0.9033558023246842, 0.0, 0.0], [-0.41327860778290443, -0.9106046300942162, 0.0, 0.0], [-0.3975428142825566, -0.9175836260593934, 0.0, 0.0], [-0.3816892202666586, -0.9242907221930934, 0.0, 0.0], [-0.3657225234972692, -0.9307239310379793, 0.0, 0.0], [-0.34964745525122826, -0.9368813462954315, 0.0, 0.0], [-0.33346877891818705, -0.9427611433904206, 0.0, 0.0], [-0.31719128858910595, -0.9483615800121716, 0.0, 0.0], [-0.300819807635668, -0.9536809966304455, 0.0, 0.0], [-0.2843591872810036, -0.9587178169872964, 0.0, 0.0], [-0.26781430516217486, -0.9634705485641486, 0.0, 0.0], [-0.25119006388481957, -0.9679377830240641, 0.0, 0.0], [-0.23449138957041052, -0.9721181966290612, 0.0, 0.0], [-0.21772323039653224, -0.9760105506323682, 0.0, 0.0], [-0.20089055513063528, -0.9796136916454901, 0.0, 0.0], [-0.18399835165767986, -0.9829265519799822, 0.0, 0.0], [-0.1670516255021195, -0.9859481499638303, 0.0, 0.0], [-0.15005539834465262, -0.9886775902323404, 0.0, 0.0], [-0.13301470653419636, -0.9911140639934546, 0.0, 0.0], [-0.11593459959550066, -0.9932568492674143, 0.0, 0.0], [-0.09882013873287211, -0.9951053111006974, 0.0, 0.0], [-0.08167639533042288, -0.99665890175417, 0.0, 0.0], [-0.06450844944931625, -0.9979171608653922, 0.0, 0.0], [-0.04732138832243232, -0.9988797155850335, 0.0, 0.0], [-0.03012030484690836, -0.9995462806873573, 0.0, 0.0], [-0.012910296075008843, -0.9999166586547379, 0.0, 0.0], [0.004303538296243821, -0.9999907397361901, 0.0, 0.0], [0.021516097436222233, -0.9997685019798909, 0.0, 0.0], [0.03872228089217399, -0.9992500112396835, 0.0, 0.0], [0.05591699010060302, -0.9984354211555643, 0.0, 0.0], [0.07309512989807776, -0.9973249731081555, 0.0, 0.0], [0.0902516100310407, -0.9959189961471792, 0.0, 0.0], [0.10738134666416306, -0.994217906893952, 0.0, 0.0], [0.12447926388678869, -0.9922222094179324, 0.0, 0.0], [0.141540295217043, -0.989932495087353, 0.0, 0.0], [0.15855938510313475, -0.9873494423939864, 0.0, 0.0], [0.17553149042142777, -0.9844738167520923, 0.0, 0.0], [0.19245158197082995, -0.9813064702716093, 0.0, 0.0], [0.20931464596304888, -0.9778483415056568, 0.0, 0.0], [0.22611568550828803, -0.9741004551724206, 0.0, 0.0], [0.2428497220959358, -0.970063921851507, 0.0, 0.0], [0.25951179706979943, -0.965739937654855, 0.0, 0.0], [0.27609697309746883, -0.9611297838723007, 0.0, 0.0], [0.2926003356333479, -0.9562348265919058, 0.0, 0.0], [0.30901699437494723, -0.9510565162951536, 0.0, 0.0], [0.3253420847119795, -0.9455963874271428, 0.0, 0.0], [0.341570769167856, -0.9398560579418953, 0.0, 0.0], [0.35769823883312546, -0.9338372288229252, 0.0, 0.0], [0.3737197147904692, -0.9275416835791965, 0.0, 0.0], [0.38963044953078774, -0.9209712877166346, 0.0, 0.0], [0.4054257283599973, -0.9141279881853337, 0.0, 0.0], [0.42110087079608916, -0.9070138128026362, 0.0, 0.0], [0.4366512319560638, -0.8996308696522434, 0.0, 0.0], [0.45207220393230374, -0.8919813464595487, 0.0, 0.0], [0.46735921715800205, -0.8840675099433637, 0.0, 0.0], [0.48250774176121763, -0.8758917051442433, 0.0, 0.0], [0.4975132889071803, -0.8674563547295971, 0.0, 0.0], [0.5123714121284235, -0.8587639582758031, 0.0, 0.0], [0.5270777086423724, -0.8498170915275277, 0.0, 0.0], [0.5416278206559811, -0.8406184056344783, 0.0, 0.0], [0.5560174366570446, -0.8311706263658079, 0.0, 0.0], [0.5702422926917867, -0.8214765533024145, 0.0, 0.0], [0.5842981736283683, -0.8115390590073611, 0.0, 0.0], [0.5981809144059159, -0.801361088174677, 0.0, 0.0], [0.6118864012687242, -0.7909456567567774, 0.0, 0.0], [0.6254105729852457, -0.780295851070776, 0.0, 0.0], [0.6387494220515268, -0.7694148268839381, 0.0, 0.0], [0.6518989958787125, -0.7583058084785625, 0.0, 0.0], [0.6648553979642866, -0.7469720876965551, 0.0, 0.0], [0.6776147890466887, -0.7354170229639858, 0.0, 0.0], [0.690173388242972, -0.7236440382959123, 0.0, 0.0], [0.7025274741691566, -0.7116566222817751, 0.0, 0.0], [0.7146733860429609, -0.6994583270516471, 0.0, 0.0], [0.726607524768565, -0.6870527672236675, 0.0, 0.0], [0.7383263540031063, -0.6744436188329457, 0.0, 0.0], [0.749826401204568, -0.661634618242279, 0.0, 0.0], [0.7611042586607742, -0.6486295610349818, 0.0, 0.0], [0.7721565844991641, -0.6354323008901775, 0.0, 0.0], [0.7829801036770625, -0.622046748440868, 0.0, 0.0], [0.7935716089521472, -0.6084768701151264, 0.0, 0.0], [0.8039279618328208, -0.594726686960764, 0.0, 0.0], [0.8140460935082175, -0.5808002734538013, 0.0, 0.0], [0.8239230057575536, -0.5667017562911184, 0.0, 0.0], [0.8335557718385695, -0.5524353131676203, 0.0, 0.0], [0.8429415373547832, -0.5380051715382992, 0.0, 0.0], [0.8520775211013093, -0.5234156073655503, 0.0, 0.0], [0.8609610158889945, -0.5086709438521042, 0.0, 0.0], [0.8695893893466109, -0.49377555015997737, 0.0, 0.0], [0.8779600847008883, -0.4787338401157883, 0.0, 0.0], [0.8860706215341378, -0.4635502709028512, 0.0, 0.0], [0.893918596519257, -0.4482293417404106, 0.0, 0.0], [0.9015016841318838, -0.4327755925504317, 0.0, 0.0], [0.9088176373395028, -0.41719360261231697, 0.0, 0.0], [0.9158642882672868, -0.4014879892059737, 0.0, 0.0], [0.9226395488404875, -0.38566340624360745, 0.0, 0.0], [0.9291414114031743, -0.3697245428906732, 0.0, 0.0], [0.935367949313148, -0.35367612217637207, 0.0, 0.0], [0.941317317512847, -0.33752289959411347, 0.0, 0.0], [0.9469877530760751, -0.32126966169236515, 0.0, 0.0], [0.9523775757303973, -0.3049212246562894, 0.0, 0.0], [0.9574851883550389, -0.2884824328806098, 0.0, 0.0], [0.9623090774541487, -0.27195815753410524, 0.0, 0.0], [0.9668478136052773, -0.2553532951161881, 0.0, 0.0], [0.9711000518829505, -0.23867276600594997, 0.0, 0.0], [0.9750645322571945, -0.22192151300416674, 0.0, 0.0], [0.9787400799669153, -0.20510449986861926, 0.0, 0.0], [0.9821256058680006, -0.1882267098432439, 0.0, 0.0], [0.9852201067560606, -0.1712931441814778, 0.0, 0.0], [0.9880226656636976, -0.154308820664281, 0.0, 0.0], [0.9905324521322227, -0.13727877211326517, 0.0, 0.0], [0.9927487224577402, -0.12020804489935275, 0.0, 0.0], [0.9946708199115211, -0.10310169744743544, 0.0, 0.0], [0.9962981749346077, -0.0859647987374467, 0.0, 0.0], [0.9976303053065857, -0.06880242680232064, 0.0, 0.0], [0.9986668162884759, -0.05161966722325418, 0.0, 0.0], [0.9994074007397048, -0.034421611622745804, 0.0, 0.0], [0.9998518392091162, -0.01721335615583528, 0.0, 0.0], [1.0, 6.432490598706546e-16, 0.0, 0.0], [1.0, 0.0, 0.0, 0.0], [0.9998518392091162, 0.017213356155834685, 0.0, 0.0]]\n"
          ],
          "name": "stdout"
        }
      ]
    },
    {
      "cell_type": "code",
      "metadata": {
        "id": "nmm7iVeFxHD9"
      },
      "source": [
        "all_x= []\n",
        "all_y= []\n",
        "summed_201819= np.zeros(365)\n",
        "count = 0 \n",
        "for i in range(len(states)):\n",
        "  temp = []\n",
        "  state_flu_pd = state_list[i]\n",
        "  flu_data = list(state_flu_pd[\"TOTAL A\"] + state_flu_pd[\"TOTAL B\"])\n",
        "  state_name = states[i]\n",
        "  state_pop = us_pop['2019'].where(us_pop['Geographic Area'] == state_name).dropna().values[0]\n",
        "\n",
        "  #getting data for specific state \n",
        "  eld_level = eld_all[i]\n",
        "  si_level = si_all[i]\n",
        "\n",
        "  for k in range(len(aug_x)):\n",
        "    temp.append(aug_x[k] + [state_pop])\n",
        "  for j in range(len(eld_level)):\n",
        "    if( not ( (math.isnan(eld_level[j])) | (math.isnan(si_level[j]))) ):\n",
        "      # starts on 4th day of year\n",
        "      day = (j+4)%366\n",
        "      temp.append([math.cos(2*math.pi*day/365), math.cos(2*math.pi*day/365), eld_level[j], si_level[j], state_pop ])\n",
        "\n",
        "  flu_data_extended = []\n",
        "  for item in flu_data:\n",
        "    for f in range(0,7):\n",
        "      flu_data_extended.append(item)\n",
        "  a = len(temp)\n",
        "  b = len(flu_data_extended)\n",
        "\n",
        "  if(a < b):\n",
        "    all_x += temp[:a]\n",
        "    all_y+= flu_data_extended[:a]\n",
        "  else:\n",
        "    all_x += temp[:b]\n",
        "    all_y+= flu_data_extended[:b]\n",
        "  \n",
        "  if(len(flu_data_extended) > 365+180):\n",
        "    count += 1\n",
        "    for f in range(0, 365):\n",
        "        summed_201819[f] = summed_201819[f] + flu_data_extended[f+180]\n",
        "\n",
        "\n",
        "for i in range(len(summed_201819)):\n",
        "  summed_201819[i] = summed_201819[i]/count"
      ],
      "execution_count": null,
      "outputs": []
    },
    {
      "cell_type": "markdown",
      "metadata": {
        "id": "GNxRPTOc5PLi"
      },
      "source": [
        "Creating aggregate output data set of flu level. reverse some state lists because the given data list is out of order \n",
        "\n"
      ]
    },
    {
      "cell_type": "code",
      "metadata": {
        "colab": {
          "base_uri": "https://localhost:8080/"
        },
        "id": "kLA4x1nG5TgW",
        "outputId": "b35bb8e8-02e0-4c3e-aff6-392d9073e0c4"
      },
      "source": [
        "print(len(all_x))\n",
        "print(len(all_y))"
      ],
      "execution_count": null,
      "outputs": [
        {
          "output_type": "stream",
          "text": [
            "40137\n",
            "40137\n"
          ],
          "name": "stdout"
        }
      ]
    },
    {
      "cell_type": "markdown",
      "metadata": {
        "id": "xj9CFhCyUA9j"
      },
      "source": [
        "#Trying out on differnt models and getting error values\n"
      ]
    },
    {
      "cell_type": "markdown",
      "metadata": {
        "id": "RAOWwjl1p_-s"
      },
      "source": [
        "XGB\n"
      ]
    },
    {
      "cell_type": "code",
      "metadata": {
        "colab": {
          "base_uri": "https://localhost:8080/",
          "height": 301
        },
        "id": "j7_x8-y7Apdg",
        "outputId": "d6629520-c135-4a61-92c1-6cca56f0ac78"
      },
      "source": [
        "from sklearn import *\n",
        "import xgboost\n",
        "from xgboost.sklearn import XGBClassifier, XGBRegressor\n",
        "from sklearn.model_selection import train_test_split\n",
        "from sklearn.metrics import r2_score\n",
        "from sklearn.metrics import accuracy_score\n",
        "from sklearn.metrics import roc_auc_score\n",
        "from sklearn import preprocessing\n",
        "\n",
        "\n",
        "X = np.asarray(all_x)\n",
        "Y = np.asarray(all_y)\n",
        "\n",
        "X_train, X_test, Y_train, Y_test = train_test_split(X, Y, test_size=0.2, random_state=42)\n",
        "xgb = XGBRegressor( max_depth=8, eta = 0.1)\n",
        "xgb.fit(X_train, Y_train)\n",
        "\n",
        "pred = xgb.predict(X_test)\n",
        "err = r2_score(Y_test,pred)\n",
        "print(err)\n",
        "\n",
        "\n",
        "model = xgb\n",
        "features = [\"Day_comp_1\",\"Day_comp_2\", \"Elderly Protection\", \"SI\", \"Population\"]\n",
        "f_importance = model.feature_importances_\n",
        "\n",
        "pyplot.bar(features,f_importance)\n",
        "pyplot.show()\n"
      ],
      "execution_count": null,
      "outputs": [
        {
          "output_type": "stream",
          "text": [
            "[00:06:14] WARNING: /workspace/src/objective/regression_obj.cu:152: reg:linear is now deprecated in favor of reg:squarederror.\n",
            "0.9064141717646855\n"
          ],
          "name": "stdout"
        },
        {
          "output_type": "display_data",
          "data": {
            "image/png": "[encoded data removed]",
            "text/plain": [
              "<Figure size 432x288 with 1 Axes>"
            ]
          },
          "metadata": {
            "tags": [],
            "needs_background": "light"
          }
        }
      ]
    },
    {
      "cell_type": "markdown",
      "metadata": {
        "id": "4uLVXDz0qB6T"
      },
      "source": [
        "Decision Tree\n"
      ]
    },
    {
      "cell_type": "code",
      "metadata": {
        "colab": {
          "base_uri": "https://localhost:8080/",
          "height": 283
        },
        "id": "xgwUPwMazJYp",
        "outputId": "54f750a1-69fa-45c6-d2f3-973c333f6b71"
      },
      "source": [
        "from sklearn import tree\n",
        "\n",
        "\n",
        "dt = tree.DecisionTreeRegressor(max_depth= 12)\n",
        "dt.fit(X_train, Y_train)\n",
        "\n",
        "pred_dt= dt.predict(X_test)\n",
        "err_dt = r2_score(Y_test,pred_dt)\n",
        "\n",
        "\n",
        "model = dt\n",
        "features = [\"Day_comp_1\",\"Day_comp_2\", \"Elderly Protection\", \"SI\", \"Population\"]\n",
        "f_importance = model.feature_importances_\n",
        "\n",
        "pyplot.bar(features,f_importance)\n",
        "pyplot.show()\n",
        "print(err_dt)\n"
      ],
      "execution_count": null,
      "outputs": [
        {
          "output_type": "display_data",
          "data": {
            "image/png": "[encoded data removed]",
            "text/plain": [
              "<Figure size 432x288 with 1 Axes>"
            ]
          },
          "metadata": {
            "tags": [],
            "needs_background": "light"
          }
        },
        {
          "output_type": "stream",
          "text": [
            "0.8662949012820615\n"
          ],
          "name": "stdout"
        }
      ]
    },
    {
      "cell_type": "markdown",
      "metadata": {
        "id": "8k29CLjnqD2l"
      },
      "source": [
        "Random Forest\n"
      ]
    },
    {
      "cell_type": "code",
      "metadata": {
        "colab": {
          "base_uri": "https://localhost:8080/",
          "height": 283
        },
        "id": "5dkD547OzSSp",
        "outputId": "8cea64d0-e887-42a6-98b6-d1ba31aa8a8f"
      },
      "source": [
        "from sklearn.ensemble import RandomForestClassifier, RandomForestRegressor\n",
        "rf = RandomForestRegressor(max_depth = 25, min_samples_leaf = 4 )\n",
        "\n",
        "rf.fit(X_train, Y_train)\n",
        "\n",
        "pred_rf= rf.predict(X_test)\n",
        "err_rf = r2_score(Y_test,pred_rf)\n",
        "print(err_rf)\n",
        "\n",
        "\n",
        "model = rf\n",
        "features = [\"Day_comp_1\",\"Day_comp_2\", \"Elderly Protection\", \"SI\", \"Population\"]\n",
        "f_importance = model.feature_importances_\n",
        "\n",
        "pyplot.bar(features,f_importance)\n",
        "pyplot.show()"
      ],
      "execution_count": null,
      "outputs": [
        {
          "output_type": "stream",
          "text": [
            "0.923950741451808\n"
          ],
          "name": "stdout"
        },
        {
          "output_type": "display_data",
          "data": {
            "image/png": "[encoded data removed]",
            "text/plain": [
              "<Figure size 432x288 with 1 Axes>"
            ]
          },
          "metadata": {
            "tags": [],
            "needs_background": "light"
          }
        }
      ]
    },
    {
      "cell_type": "markdown",
      "metadata": {
        "id": "AjgJvMvfqFi0"
      },
      "source": [
        "LGBM\n"
      ]
    },
    {
      "cell_type": "code",
      "metadata": {
        "colab": {
          "base_uri": "https://localhost:8080/",
          "height": 283
        },
        "id": "WBo-mQqHIzQY",
        "outputId": "2c5abc2a-450f-4eec-bddb-6522dfc67cff"
      },
      "source": [
        "from lightgbm import LGBMClassifier, LGBMRegressor\n",
        "\n",
        "lgbm = LGBMRegressor(n_estimators = 1000, max_depth = 12)\n",
        "lgbm.fit(X_train, Y_train)\n",
        "\n",
        "pred_lgbm= lgbm.predict(X_test)\n",
        "err_lgbm = r2_score(Y_test,pred_lgbm)\n",
        "print(err_lgbm)\n",
        "\n",
        "\n",
        "model = lgbm\n",
        "features = [\"Day_comp_1\",\"Day_comp_2\", \"Elderly Protection\", \"SI\", \"Population\"]\n",
        "f_importance = model.feature_importances_\n",
        "\n",
        "pyplot.bar(features,f_importance)\n",
        "pyplot.show()"
      ],
      "execution_count": null,
      "outputs": [
        {
          "output_type": "stream",
          "text": [
            "0.9261212873900617\n"
          ],
          "name": "stdout"
        },
        {
          "output_type": "display_data",
          "data": {
            "image/png": "[encoded data removed]",
            "text/plain": [
              "<Figure size 432x288 with 1 Axes>"
            ]
          },
          "metadata": {
            "tags": [],
            "needs_background": "light"
          }
        }
      ]
    },
    {
      "cell_type": "markdown",
      "metadata": {
        "id": "551T5UJ9qHFr"
      },
      "source": [
        "Adaboost\n"
      ]
    },
    {
      "cell_type": "code",
      "metadata": {
        "colab": {
          "base_uri": "https://localhost:8080/",
          "height": 283
        },
        "id": "CiC-wF3uBV9o",
        "outputId": "1e585061-1466-41ab-c425-4e2ee8ec7dc3"
      },
      "source": [
        "from sklearn.ensemble import AdaBoostRegressor\n",
        "\n",
        "ab = AdaBoostRegressor(n_estimators = 1000, loss = 'square')\n",
        "ab.fit(X_train, Y_train)\n",
        "\n",
        "pred_ab= ab.predict(X_test)\n",
        "err_ab = r2_score(Y_test,pred_lgbm)\n",
        "print(err_ab)\n",
        "\n",
        "\n",
        "model = ab\n",
        "features = [\"Day_comp_1\",\"Day_comp_2\", \"Elderly Protection\", \"SI\", \"Population\"]\n",
        "f_importance = model.feature_importances_\n",
        "\n",
        "pyplot.bar(features,f_importance)\n",
        "pyplot.show()\n"
      ],
      "execution_count": null,
      "outputs": [
        {
          "output_type": "stream",
          "text": [
            "0.9261212873900617\n"
          ],
          "name": "stdout"
        },
        {
          "output_type": "display_data",
          "data": {
            "image/png": "[encoded data removed]",
            "text/plain": [
              "<Figure size 432x288 with 1 Axes>"
            ]
          },
          "metadata": {
            "tags": [],
            "needs_background": "light"
          }
        }
      ]
    },
    {
      "cell_type": "markdown",
      "metadata": {
        "id": "SYXmmMQvqI-L"
      },
      "source": [
        "Stacked (XGB, LGBM, RF)"
      ]
    },
    {
      "cell_type": "code",
      "metadata": {
        "colab": {
          "base_uri": "https://localhost:8080/"
        },
        "id": "tHKGqZ1jD5Bz",
        "outputId": "a1932ddc-4a57-4f70-ca6b-f3cff695971a"
      },
      "source": [
        "#stacking lgbm and xgb and rf \n",
        "\n",
        "from sklearn.ensemble import StackingClassifier, StackingRegressor\n",
        "from sklearn.linear_model import LogisticRegression\n",
        "\n",
        "estimators = [ \n",
        "    ('xgb',  XGBRegressor(max_depth=8, eta = 0.1)),\n",
        "    ('rf', RandomForestRegressor(max_depth = 25, min_samples_leaf = 4 )),\n",
        "    ('lgbm', LGBMRegressor(n_estimators = 1000, max_depth = 12))\n",
        "]\n",
        "\n",
        "clf = StackingRegressor(\n",
        "    estimators=estimators, final_estimator= rf\n",
        "    )\n",
        "    \n",
        "\n",
        "clf.fit(X_train, Y_train)\n",
        "\n",
        "pred_clf= clf.predict(X_test)\n",
        "err_clf = r2_score(Y_test,pred_clf)\n",
        "print(err_clf)\n",
        "\n"
      ],
      "execution_count": null,
      "outputs": [
        {
          "output_type": "stream",
          "text": [
            "[00:06:27] WARNING: /workspace/src/objective/regression_obj.cu:152: reg:linear is now deprecated in favor of reg:squarederror.\n",
            "[00:06:37] WARNING: /workspace/src/objective/regression_obj.cu:152: reg:linear is now deprecated in favor of reg:squarederror.\n",
            "[00:06:39] WARNING: /workspace/src/objective/regression_obj.cu:152: reg:linear is now deprecated in favor of reg:squarederror.\n",
            "[00:06:41] WARNING: /workspace/src/objective/regression_obj.cu:152: reg:linear is now deprecated in favor of reg:squarederror.\n",
            "[00:06:43] WARNING: /workspace/src/objective/regression_obj.cu:152: reg:linear is now deprecated in favor of reg:squarederror.\n",
            "[00:06:46] WARNING: /workspace/src/objective/regression_obj.cu:152: reg:linear is now deprecated in favor of reg:squarederror.\n",
            "0.9324399298909173\n"
          ],
          "name": "stdout"
        }
      ]
    },
    {
      "cell_type": "markdown",
      "metadata": {
        "id": "pRpmSiqIqTjS"
      },
      "source": [
        "Plotting imitation flu season. Input can be adjusted to get different results."
      ]
    },
    {
      "cell_type": "code",
      "metadata": {
        "colab": {
          "base_uri": "https://localhost:8080/",
          "height": 264
        },
        "id": "do0Os5qLHBz7",
        "outputId": "3e81df8a-fd67-4ffe-8424-ba653899a0a5"
      },
      "source": [
        "import matplotlib.pyplot as plt\n",
        "predictions =[]\n",
        "\n",
        "for level in range (0, 5):\n",
        "  x_exp = []\n",
        "  for i in range(0, 365):\n",
        "    x_exp.append([math.cos(2*math.pi*(i)/365), math.sin(2*math.pi*(i)/365), level,  75.0, 328239523])\n",
        "  predictions.append(np.asarray([clf.predict(x_exp)]))\n",
        "\n",
        "predictions\n",
        "\n",
        "days = list(range(0, 365, 1))\n",
        "\n",
        "plt.plot(days, predictions[0].T, color = \"blue\", label = \"No policy \")\n",
        "plt.plot(days, predictions[1].T, color = \"green\", label = \"Reccomended\")\n",
        "plt.plot(days, predictions[2].T, color = \"red\",label = \"Sometimes\" )\n",
        "plt.plot(days, predictions[4].T, color = \"pink\", label = \"Often\")\n",
        "plt.plot(days, predictions[3].T, color = \"lime\", label = \"Always\")\n",
        "\n",
        "\n",
        "plt.legend(loc=\"upper right\")\n",
        "\n",
        "plt.show()"
      ],
      "execution_count": null,
      "outputs": [
        {
          "output_type": "display_data",
          "data": {
            "image/png": "[encoded data removed]",
            "text/plain": [
              "<Figure size 432x288 with 1 Axes>"
            ]
          },
          "metadata": {
            "tags": [],
            "needs_background": "light"
          }
        }
      ]
    },
    {
      "cell_type": "markdown",
      "metadata": {
        "id": "gmLN4rA2qZx1"
      },
      "source": [
        "Cumulative flu season 2018-19 (USA)"
      ]
    },
    {
      "cell_type": "code",
      "metadata": {
        "id": "cNS-LYUGBTc5",
        "colab": {
          "base_uri": "https://localhost:8080/",
          "height": 403
        },
        "outputId": "0eb2ca33-0a47-4064-dac4-1d68f28b5c87"
      },
      "source": [
        "import matplotlib.pyplot as plt\n",
        "us_flu_graph = us_flu_nums[(us_flu_nums['YEAR'] == 2018) | ((us_flu_nums['YEAR'] == 2019) & (us_flu_nums['WEEK'] < 40))]\n",
        "us_flu_graph['TOTAL'] = us_flu_graph['TOTAL A'] + us_flu_graph['TOTAL B']\n",
        "df = us_flu_graph.groupby('WEEK').agg({'TOTAL': ['sum']})\n",
        "df.plot(kind = 'line')\n",
        "plt.legend([\"Total US Flu Cases\"])\n",
        "\n"
      ],
      "execution_count": null,
      "outputs": [
        {
          "output_type": "stream",
          "text": [
            "/usr/local/lib/python3.7/dist-packages/ipykernel_launcher.py:3: SettingWithCopyWarning: \n",
            "A value is trying to be set on a copy of a slice from a DataFrame.\n",
            "Try using .loc[row_indexer,col_indexer] = value instead\n",
            "\n",
            "See the caveats in the documentation: https://pandas.pydata.org/pandas-docs/stable/user_guide/indexing.html#returning-a-view-versus-a-copy\n",
            "  This is separate from the ipykernel package so we can avoid doing imports until\n"
          ],
          "name": "stderr"
        },
        {
          "output_type": "execute_result",
          "data": {
            "text/plain": [
              "<matplotlib.legend.Legend at 0x7fe74c98f0d0>"
            ]
          },
          "metadata": {
            "tags": []
          },
          "execution_count": 53
        },
        {
          "output_type": "display_data",
          "data": {
            "image/png": "[encoded data removed]",
            "text/plain": [
              "<Figure size 432x288 with 1 Axes>"
            ]
          },
          "metadata": {
            "tags": [],
            "needs_background": "light"
          }
        }
      ]
    }
  ]
}